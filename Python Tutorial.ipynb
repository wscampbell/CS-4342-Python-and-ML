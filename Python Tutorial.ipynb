{
 "cells": [
  {
   "cell_type": "markdown",
   "metadata": {},
   "source": [
    "# 1. Jupyter Notebook"
   ]
  },
  {
   "cell_type": "markdown",
   "metadata": {},
   "source": [
    "To run this notebook locally with Jupyter, activate the virtual environment and run command <mark style=background-color:grey>pip install notebook</mark> . Then <mark style=background-color:grey>cd</mark>  to a directory and run command <mark style=background-color:grey>jupyter notebook</mark>. You'll see a screen show all available notebooks in the directory. Click <mark style=background-color:grey>Python Tutorial.ipynb</mark> and follow the instructions in the notebook."
   ]
  },
  {
   "cell_type": "markdown",
   "metadata": {},
   "source": [
    "# 2. Python Syntax"
   ]
  },
  {
   "cell_type": "markdown",
   "metadata": {},
   "source": [
    "## 2.1 Data types"
   ]
  },
  {
   "cell_type": "code",
   "execution_count": null,
   "metadata": {},
   "outputs": [],
   "source": [
    "# Numbers: Integers and floats\n",
    "\n",
    "x = 3\n",
    "y = 2.5\n",
    "\n",
    "# data type\n",
    "print(type(x)) # Prints \"<class 'int'>\"\n",
    "print(type(y)) # Prints \"<class 'float'>\"\n",
    "\n",
    "# Mathematic operations\n",
    "print(y, y + 1, y * 2, y ** 2) # Prints \"2.5 3.5 5.0 6.25\" , won't change value of y\n",
    "\n",
    "#Mathematic operations\n",
    "# Addition; prints \"4\"\n",
    "print(x + 1)   \n",
    "x += 1; print(x)  # Change the value of x\n",
    "\n",
    "# Subtraction; prints \"3\"\n",
    "print(x - 1)\n",
    "x -= 1; print(x) # Change the value of x\n",
    "\n",
    "# Multiplication; prints \"6\"\n",
    "print(x * 2)\n",
    "x *= 2; print(x) # Change the value of x\n",
    "\n",
    "# Exponentiation; prints \"36\"\n",
    "print(x ** 2)  \n",
    "\n",
    "#Unlike other languagues, there is no operator like x++ or x-- in python"
   ]
  },
  {
   "cell_type": "code",
   "execution_count": null,
   "metadata": {},
   "outputs": [],
   "source": [
    "# Booleans\n",
    "# Python implements all of the usual operators for Boolean logic, but uses English words rather than symbols (&&, ||, etc.):\n",
    "\n",
    "t = True\n",
    "f = False\n",
    "print(type(t)) # Prints \"<class 'bool'>\"\n",
    "print(t and f) # Logical AND; prints \"False\"\n",
    "print(t or f)  # Logical OR; prints \"True\"\n",
    "print(not t)   # Logical NOT; prints \"False\"\n",
    "print(t != f)  # Logical XOR; prints \"True\"\n"
   ]
  },
  {
   "cell_type": "code",
   "execution_count": null,
   "metadata": {},
   "outputs": [],
   "source": [
    "# Strings\n",
    "\n",
    "hello = 'hello'    # String literals can use single quotes\n",
    "world = \"world\"    # or double quotes; it does not matter.\n",
    "\n",
    "''\n",
    "# String length; prints \"5\"\n",
    "print(len(hello))  \n",
    "\n",
    "# String concatenation\n",
    "hw = hello + ' ' + world  \n",
    "print(hw)  # prints \"hello world\"\n",
    "\n",
    "hw12 = '%s %s %d' % (hello, world, 12)  # sprintf style string formatting\n",
    "print(hw12)  # prints \"hello world 12\"\n",
    "\n",
    "# Some other useful methods\n",
    "print(hello.capitalize())  # Capitalize a string; prints \"Hello\"\n",
    "print(hello.upper())       # Convert a string to uppercase; prints \"HELLO\"\n",
    "print(hello.rjust(7))      # Right-justify a string, padding with spaces; prints \"  hello\"\n",
    "print(hello.center(7))     # Center a string, padding with spaces; prints \" hello \"\n",
    "print(hello.replace('l', '(ell)'))  # Replace all instances of one substring with another;\n",
    "                                # prints \"he(ell)(ell)o\"\n",
    "print('  world '.strip())  # Strip leading and trailing whitespace; prints \"world\""
   ]
  },
  {
   "cell_type": "markdown",
   "metadata": {},
   "source": [
    "## 2.2 Containers"
   ]
  },
  {
   "cell_type": "code",
   "execution_count": null,
   "metadata": {},
   "outputs": [],
   "source": [
    "# Lists\n",
    "\n",
    "# Create a list\n",
    "example_list = [1, 2, 'three', [4, 5, 6]] # Lists can contain elements of different types\n",
    "\n",
    "\n",
    "# Indexing\n",
    "print(example_list[3][1])   # prints \"5\"\n",
    "print(example_list[-1])     # Negative indices count from the end of the list; prints \"[4,5,6]\"\n",
    "example_list.append('four') # Add a new element to the end of the list\n",
    "print(example_list)         # prints \"[1, 2, 'three', [4, 5, 6], 'four']\"\n",
    "example_list.pop()          # Remove and return the last element of the list\n",
    "print(example_list)         # prints \"[1, 2, 'three', [4, 5, 6]]\"\n",
    "\n",
    "# Slicing\n",
    "nums = list(range(5))     # range is a built-in function that creates a list of integers\n",
    "print(nums)               # prints \"[0, 1, 2, 3, 4]\"\n",
    "print(nums[2:4])          # Get a slice from index 2 to 4 (exclusive); prints \"[2, 3]\"\n",
    "print(nums[2:])           # Get a slice from index 2 to the end; prints \"[2, 3, 4]\"\n",
    "print(nums[:2])           # Get a slice from the start to index 2 (exclusive); prints \"[0, 1]\"\n",
    "print(nums[:])            # Get a slice of the whole list; prints \"[0, 1, 2, 3, 4]\"\n",
    "print(nums[:-1])          # Slice indices can be negative; prints \"[0, 1, 2, 3]\"\n",
    "nums[2:4] = [8, 9]        # Assign a new sublist to a slice\n",
    "print(nums)               # prints \"[0, 1, 8, 9, 4]\"\n",
    "\n",
    "\n",
    "# Sorting\n",
    "rand_list = [3, 12, 5, 6]\n",
    "sorted_list = sorted(rand_list)                            # Sort a list\n",
    "print(sorted_list)                                         # prints \"[3, 5, 6, 12]\"\n",
    "rand_list2 = [(3, 'A'), (12, 'D'), (5, 'K'), (6, 'C')]     # Given additional key parameter, and sorted on the given key\n",
    "sorted_list2 = sorted(rand_list2, key = lambda x: x[1])   # prints \"[(3, 'A'), (6, 'C'), (12, 'D'), (5, 'K')]\"\n",
    "print(sorted_list2)\n",
    "\n",
    "# Loops\n",
    "nums = list(range(5))\n",
    "for num in nums:\n",
    "    print(num)                         # prints \"0\", \"1\", \"2\", \"3\", \"4\", each on its own line.\n",
    "for idx, num in enumerate(nums):\n",
    "    print('#%d: %s' % (idx + 1, num))  # prints \"#1: 0\", \"#2: 1\", \"#3: 2\", \"#4: 3\", \"#5: 4\", each on its own line\n",
    "\n",
    "# List comprehensions\n",
    "number = [x for x in nums]\n",
    "print(number)                              # prints \"0, 1, 2 , 3, 4\", on one line\n",
    "\n",
    "\n",
    "squares = []\n",
    "for x in nums:\n",
    "    squares.append(x ** 2)                            # Get the square of each component in the list\n",
    "print(squares)                                        # prints [0, 1, 4, 9, 16]\n",
    "\n",
    "squares = [x ** 2 for x in nums]                     # List comprehension\n",
    "print(squares)                                        # prints [0, 1, 4, 9, 16]\n",
    "\n",
    "even_squares = [x ** 2 for x in nums if x % 2 == 0] # Add additional conditions\n",
    "print(even_squares)                                   # prints \"[0, 4, 16]\"\n",
    "\n",
    "# List comprehension can be a slick way to create lists\n"
   ]
  },
  {
   "cell_type": "code",
   "execution_count": null,
   "metadata": {},
   "outputs": [],
   "source": [
    "# Dictionaries\n",
    "# A dictionary stores (key,value) pairs\n",
    "\n",
    "# Create a new dictionary\n",
    "example_dict = {'cat': 'cute', 'dog': 'furry'}\n",
    "\n",
    "# Get entries\n",
    "print('cat' in example_dict)     # Check if a dictionary has a given key; prints \"True\"\n",
    "print(example_dict['cat'])       # Get an entry from a dictionary; prints \"cute\"\n",
    "example_dict['fish'] = 'wet';print(example_dict['fish'])     # Set an entry in a dictionary; prints \"wet\"\n",
    "# print(example_dict['monkey'])  # KeyError: 'monkey' not a key of d\n",
    "print(example_dict.get('monkey', 'N/A'))  # Get an element with a default; prints \"N/A\"\n",
    "print(example_dict.get('fish', 'N/A'))    # Get an element with a default; prints \"wet\"\n",
    "del example_dict['fish']         # Remove an element from a dictionary\n",
    "print(example_dict.get('fish', 'N/A')) # \"fish\" is no longer a key; prints \"N/A\"\n",
    "\n",
    "# Loops\n",
    "# Prints \"A person has 2 legs\", \"A cat has 4 legs\", \"A spider has 8 legs\"\n",
    "d = {'person': 2, 'cat': 4, 'spider': 8}\n",
    "\n",
    "#Solution_1:\n",
    "for animal in d:\n",
    "    legs = d[animal]\n",
    "    print('A %s has %d legs' % (animal, legs))\n",
    "#Solution_2:   \n",
    "for animal, legs in d.items():\n",
    "    print('A %s has %d legs' % (animal, legs))\n",
    "\n",
    "\n",
    "# Dict comprehensions\n",
    "nums = [0, 1, 2, 3, 4]\n",
    "even_num_to_square = {x: x ** 2 for x in nums if x % 2 == 0}\n",
    "print(even_num_to_square)  # Prints \"{0: 0, 2: 4, 4: 16}\""
   ]
  },
  {
   "cell_type": "code",
   "execution_count": null,
   "metadata": {},
   "outputs": [],
   "source": [
    "# Sets\n",
    "# A set contains unordered distinct items\n",
    "\n",
    "animals = {'cat', 'dog'}\n",
    "print('cat' in animals)                        # Check if an element is in a set; prints \"True\"\n",
    "animals.add('fish')                            # Add an element to a set\n",
    "print(len(animals))                            # Number of elements in a set; prints \"3\"\n",
    "animals.add('cat'); print(len(animals))        # Adding an element that is already in the set does nothing; prints \"3\"\n",
    "animals.remove('cat');print(len(animals))      # Remove an element from a set; prints \"2\"\n",
    "\n",
    "#NO SET INDEXING\n",
    "\n",
    "# Loops\n",
    "animals = {'cat', 'dog', 'fish'}\n",
    "for idx, animal in enumerate(animals):\n",
    "    print('#%d: %s' % (idx + 1, animal))       # Prints \"#1: fish\", \"#2: dog\", \"#3: cat\""
   ]
  },
  {
   "cell_type": "markdown",
   "metadata": {},
   "source": [
    "### Summary\n",
    "1. None of above types have a fixed type: all can contain anything\n",
    "2. Tuples is in many ways similar to a list; it contains immutable ordered list of values. \n",
    "   One key difference is that tuples can be used as keys in dictionaries and as elements of sets while lists cannot.\n"
   ]
  },
  {
   "cell_type": "markdown",
   "metadata": {},
   "source": [
    "## 2.3 Functions"
   ]
  },
  {
   "cell_type": "code",
   "execution_count": null,
   "metadata": {},
   "outputs": [],
   "source": [
    "# In python, we define functions using keyword def\n",
    "\n",
    "def example_func(a, b = 10 , loud = False):\n",
    "    if loud:                                          # Boolean statements\n",
    "        print('%s is %d years younger than me.' % (a.upper(), b))\n",
    "    else:\n",
    "        print('%s is %d years younger than me.' % (a, b))\n",
    "\n",
    "def main():\n",
    "    name = 'Alice'\n",
    "    age = 5\n",
    "    example_func(a = name)\n",
    "    example_func(a = name, b = age, loud = True)\n",
    "    \n",
    "    \n",
    "if __name__=='__main__':\n",
    "    main()\n",
    "    \n",
    "\n",
    "# In the above function, we pass a default value for b, and take loud as optional keyword arguments. \n",
    "# You can call it from command line and see what's the difference"
   ]
  },
  {
   "cell_type": "markdown",
   "metadata": {},
   "source": [
    "## 2.4 Classes"
   ]
  },
  {
   "cell_type": "code",
   "execution_count": null,
   "metadata": {},
   "outputs": [],
   "source": [
    "class Vehicle:\n",
    "    \n",
    "    # Constructor, initialize the class to get an instance using some parameters\n",
    "    def __init__(self, make, name, price = 100):\n",
    "        self.name = name                                   # instance variables                                 \n",
    "        self.make = make                                                    \n",
    "        self.price = price                                 \n",
    "        self.odometer = 0\n",
    "    \n",
    "    # Do some something with the instance\n",
    "    def drive(self, distance):\n",
    "        self.odometer += distance\n",
    "    \n",
    "    def compute_price(self):\n",
    "        try:\n",
    "            price = self.price / self.odometer\n",
    "        except ZeroDivisionError:\n",
    "            price = self.price\n",
    "        return price\n",
    "    \n",
    "# Use of a class\n",
    "v = Vehicle('Honda', 'Accord', price = 20000)     # Instantiate the class, get an instance\n",
    "print(v.compute_price())                          # Call an instance method\n",
    "\n",
    "# Use of a class\n",
    "if __name__ == '__main__':\n",
    "    family_car = Vehicle('Honda', 'Accord', price = 20000)\n",
    "    family_car.drive(100)\n",
    "    print(family_car.compute_price())\n"
   ]
  },
  {
   "cell_type": "markdown",
   "metadata": {},
   "source": [
    "# 3 Numpy & Scipy"
   ]
  },
  {
   "cell_type": "markdown",
   "metadata": {},
   "source": [
    "## 3.1 Arrays"
   ]
  },
  {
   "cell_type": "code",
   "execution_count": null,
   "metadata": {},
   "outputs": [],
   "source": [
    "import numpy as np\n",
    "# All entries are of the same type\n",
    "\n",
    "# Generate Ndarrays\n",
    "a = np.array([1, 2, 3])   # Create a rank 1 array\n",
    "print(type(a))            # Prints \"<class 'numpy.ndarray'>\"\n",
    "print(a.dtype)            # Get the datatype of the ndarry; prints \"int64\", it can be explicitly specified when constructing the array\n",
    "print(a.shape)            # Prints \"(3,)\"\n",
    "print(a[0], a[1], a[2])   # Prints \"1 2 3\"\n",
    "a[0] = 5                  # Change an element of the array\n",
    "print(a)                  # Prints \"[5, 2, 3]\"\n",
    "\n",
    "b = np.array([[1,2,3],[4,5,6]])    # Create a rank 2 array\n",
    "print(b.shape)                     # Prints \"(2, 3)\"\n",
    "print(b[0, 0], b[0, 1], b[1, 0])   # Prints \"1 2 4\"\n",
    "\n",
    "\n",
    "a = np.zeros((2,2))   # Create an array of all zeros\n",
    "print(a)              # Prints \"[[ 0.  0.]\n",
    "                      #          [ 0.  0.]]\"\n",
    "\n",
    "b = np.ones((1,2))    # Create an array of all ones\n",
    "print(b)              # Prints \"[[ 1.  1.]]\"\n",
    "\n",
    "c = np.full((2,2), 7)  # Create a constant array\n",
    "print(c)               # Prints \"[[ 7.  7.]\n",
    "                       #          [ 7.  7.]]\"\n",
    "\n",
    "d = np.eye(2)         # Create a 2x2 identity matrix\n",
    "print(d)              # Prints \"[[ 1.  0.]\n",
    "                      #          [ 0.  1.]]\"\n",
    "\n",
    "e = np.random.rand(2,2)  # Create an array filled with random values\n",
    "\n",
    "f = np.array([[0,1,2],[3,4,5],[6,7,8]]) # Create an array from a python list"
   ]
  },
  {
   "cell_type": "code",
   "execution_count": null,
   "metadata": {},
   "outputs": [],
   "source": [
    "# Slicing\n",
    "\n",
    "# Create the following rank 2 array with shape (3, 4)\n",
    "a = np.array([[1,2,3,4], [5,6,7,8], [9,10,11,12]])\n",
    "\n",
    "# Use slicing to pull out the subarray consisting of the first 2 rows and columns 1 and 2; b is the following array of shape (2, 2):\n",
    "b = a[:2, 1:3] # prints   [[2 3]\n",
    "               #           [6 7]]\n",
    "\n",
    "# A slice of an array is a view into the same data, so modifying it will modify the original array.\n",
    "print(a[0, 1])   # Prints \"2\"\n",
    "b[0, 0] = 77     # b[0, 0] is the same piece of data as a[0, 1]\n",
    "print(a[0, 1])   # Prints \"77\"\n",
    "\n",
    "# Two ways of accessing the data in the middle row of the array.\n",
    "# Mixing integer indexing with slices yields an array of lower rank\n",
    "row_r1 = a[1, :]    # Rank 1 view of the second row of a\n",
    "print(row_r1, row_r1.shape)  # Prints \"[5 6 7 8] (4,)\"\n",
    "# Slices yields an array of the same rank as the original array\n",
    "row_r2 = a[1:2, :]  # Rank 2 view of the second row of a\n",
    "print(row_r2, row_r2.shape)  # Prints \"[[5 6 7 8]] (1, 4)\"\n",
    "\n",
    "# The same distinction also when accessing columns of an array"
   ]
  },
  {
   "cell_type": "code",
   "execution_count": null,
   "metadata": {},
   "outputs": [],
   "source": [
    "# Integer array indexing\n",
    "# When you index into numpy arrays using slicing, the resulting array view will always be a subarray of the original array. \n",
    "# In contrast, integer array indexing allows you to construct arbitrary arrays using the data from another array.\n",
    "\n",
    "a = np.array([[1,2], [3, 4], [5, 6]])\n",
    "\n",
    "# An example of integer array indexing.\n",
    "print(a[[0, 1, 2], [0, 1, 0]])  # Prints \"[1 4 5]\"; shape(3,)\n",
    "print(np.array([a[0, 0], a[1, 1], a[2, 0]]))  # Equivalent to above example; prints \"[1 4 5]\"\n",
    "\n",
    "# When using integer array indexing, you can reuse the same element from the source array:\n",
    "print(a[[0, 0], [1, 1]])  # Prints \"[2 2]\"\n",
    "print(np.array([a[0, 1], a[0, 1]]))  # Equivalant to above example; prints \"[2 2]\"\n",
    "\n",
    "\n",
    "# Boolean array indexing\n",
    "bool_idx = (a > 2)   # Find the elements of a that are bigger than 2;\n",
    "# Returns a numpy array of Booleans of the same shape as a, where each slot of bool_idx tellswhether that element of a is > 2\n",
    "print(bool_idx)      # Prints \"[[False False]\n",
    "                     #          [ True  True]\n",
    "                     #          [ True  True]]\"\n",
    "# Use boolean array indexing to construct a rank 1 array consisting of the elements of a corresponding to the True values of bool_idx\n",
    "print(a[bool_idx])  # Prints \"[3 4 5 6]\"\n",
    "# We can do all of the above in a single concise statement:\n",
    "print(a[a > 2])     # Prints \"[3 4 5 6]\""
   ]
  },
  {
   "cell_type": "markdown",
   "metadata": {},
   "source": [
    "## 3.2 Arithmetic  Operations on Ndarrays"
   ]
  },
  {
   "cell_type": "code",
   "execution_count": null,
   "metadata": {},
   "outputs": [],
   "source": [
    "import numpy as np\n",
    "# Arithmetic operations\n",
    "\n",
    "# Same shape\n",
    "\n",
    "# Element-wise Sum\n",
    "x = np.array([[1,2],[3,4]], dtype=np.float64)\n",
    "y = np.array([[5,6],[7,8]], dtype=np.float64)\n",
    "print(x + y)\n",
    "print(np.add(x, y))\n",
    "# both produce the array\n",
    "# [[ 6.0  8.0]\n",
    "#  [10.0 12.0]]\n",
    "\n",
    "# Element-wise multiplication(*)\n",
    "print(x * y)\n",
    "print(np.multiply(x, y))\n",
    "# both produce the array\n",
    "# [[ 5.0 12.0]\n",
    "#  [21.0 32.0]]\n",
    "\n",
    "# Dot product\n",
    "# 1. between vector and vector\n",
    "x = np.array([1,2,3,4])\n",
    "y = np.array([5,10,15,20])\n",
    "print(np.dot(x,y))\n",
    "print(sum([i*j for (i, j) in zip(x, y)]))\n",
    "# both produce \"150\"\n",
    "\n",
    "# 2. between vector and matrix\n",
    "x = np.array([[1,10],[2,5],[3,3]])\n",
    "y = np.array([3,4])\n",
    "print(np.dot(x, y))\n",
    "# both produce the array \"[43,26,21]\"\n",
    "\n",
    "# 3. between matrix and matrix: matrix multiplication\n",
    "x = np.array([[1,5],[2,3],[3,10]])\n",
    "y = np.array([[3,4],[4,5]])\n",
    "print(np.dot(x, y))\n",
    "print(np.matmul(x, y))\n",
    "# both produce the array\n",
    "# [[23,29],\n",
    "#  [18,23],\n",
    "#  [49,62]]\n",
    "\n",
    "# According to official document,it is recommend to use np.matmul()"
   ]
  },
  {
   "cell_type": "code",
   "execution_count": null,
   "metadata": {},
   "outputs": [],
   "source": [
    "# Sum: compute sum of all elements, requires the dtype to be scalar\n",
    "x = np.array([[1,2],\n",
    "              [3,4]], dtype = np.int64)\n",
    "print(np.sum(x))  # Compute sum of all elements; prints \"10\"\n",
    "print(np.sum(x, axis=0))  # Compute sum of each column; prints \"[4 6]\"\n",
    "print(np.sum(x, axis=1))  # Compute sum of each row; prints \"[3 7]\"\n",
    "# Apply along the dimension gets rid of that dimension and replaces it with the function applied across that dimension\n",
    "\n",
    "# Transpose\n",
    "print(x)    # Prints \"[[1 2]\n",
    "            #          [3 4]]\"\n",
    "print(x.T)  # Prints \"[[1 3]\n",
    "            #          [2 4]]\"\n",
    "# Note that taking the transpose of a rank 1 array does nothing:\n",
    "v = np.array([1,2,3])\n",
    "print(v)    # Prints \"[1 2 3]\"\n",
    "print(v.T)  # Prints \"[1 2 3]\"\n",
    "\n",
    "# Reshape\n",
    "x.shape          # Prints \"(2,2)\"\n",
    "x.reshape(4,)    # Prints the array \"[1,2,3,4]\"\n",
    "x.reshape(4,-1)  # Prints the array \"[[1],[2],[3],[4]]\"\n",
    "x.reshape(1, 4)  # Prints the array \"[[1,2,3,4]]\""
   ]
  },
  {
   "cell_type": "markdown",
   "metadata": {},
   "source": [
    "## 3.3 Broadcasting"
   ]
  },
  {
   "cell_type": "markdown",
   "metadata": {},
   "source": [
    "Broadcasting is a powerful mechanism that allows numpy to work with arrays of different shapes when performing arithmetic operations. Frequently we have a smaller array and a larger array, and we want to use the smaller array multiple times to perform some operation on the larger array."
   ]
  },
  {
   "cell_type": "code",
   "execution_count": null,
   "metadata": {},
   "outputs": [],
   "source": [
    "# Allows to work with arrays of different shapes when performing arithmetic operations\n",
    "\n",
    "# Example 1: add a vector to each row of the matrix\n",
    "x = np.array([[1,2,3], [4,5,6], [7,8,9], [10, 11, 12]])\n",
    "v = np.array([1, 0, 1])\n",
    "y = np.empty_like(x)   # Create an empty matrix with the same shape as x\n",
    "\n",
    "\n",
    "# Solution 1: Explicitly loop\n",
    "for i in range(4):\n",
    "    y[i, :] = x[i, :] + v  \n",
    "    # however when the matrix x is very large, computing an explicit loop in Python could be slow. \n",
    "# Solution 2: Stack 4 copies of v on top of each other\n",
    "vv = np.tile(v, (4, 1))\n",
    "print(vv)                 # Prints \"[[1 0 1],[1 0 1],[1 0 1],[1 0 1]]\"\n",
    "y = x + vv                # Add x and vv elementwise\n",
    "# Solution 3: Broadcasting\n",
    "y = x + v \n",
    "# Prints \"[[ 2  2  4]\n",
    "#          [ 5  5  7]\n",
    "#          [ 8  8 10]\n",
    "#          [11 11 13]]\""
   ]
  },
  {
   "cell_type": "markdown",
   "metadata": {},
   "source": [
    "### General rules of broadcasting\n",
    "\n",
    "1. Write out the shapes of each ndarray\n",
    "2. Starting from the back, that dimension has compatible values if either:\n",
    "    a. They are the same value, or \n",
    "    b. One of them is a 1\n",
    "3. The size of the resulting array is the maxinum along each dimension\n",
    "4. If either argument is N-D, N > 2, it is treated as a stack of matrices residing in the last two indexes and broadcast accordingly(See example 5)"
   ]
  },
  {
   "cell_type": "code",
   "execution_count": null,
   "metadata": {},
   "outputs": [],
   "source": [
    "# Broadcasting case\n",
    "\n",
    "# Example 2: Add a scalar to an ndarray\n",
    "x = np.array([1,10,15,100])\n",
    "y = 10\n",
    "print(x + y)        # prints the array \"[11, 20, 25, 110]\"\n",
    "\n",
    "# Example 3: Compute outer product of vectors\n",
    "v = np.array([1,2,3])  # v has shape (3,)\n",
    "w = np.array([4,5])    # w has shape (2,)\n",
    "print(np.reshape(v, (3, 1)) * w)\n",
    "# First reshape v to be a column vector of shape (3, 1), then broadcast it against w to yield an output of shape (3, 2)\n",
    "# [[ 4  5]\n",
    "#  [ 8 10]\n",
    "#  [12 15]]\n",
    "\n",
    "# Example 4: Add a vector to each column of a matrix\n",
    "x = np.array([[1,2,3], [4,5,6]])    # x has shape (2, 3)\n",
    "v = np.array([1,2,3])               # w has shape (2,)\n",
    "# Transpose x then it has shape (3, 2) and can be broadcast against w to yield a result of shape (3, 2)\n",
    "# Transposing this result yields the final result of shape (2, 3)\n",
    "print((x.T + w).T)\n",
    "# Another solution is to reshape w to be a column vector of shape (2, 1); then broadcast it directly against x\n",
    "print(x + np.reshape(w, (2, 1)))\n",
    "# [[ 5  6  7]\n",
    "#  [ 9 10 11]]\n",
    "\n",
    "\n",
    "# Example 5: \n",
    "a = np.random.random((3,4,5,6))\n",
    "b = np.random.random((4,6,7))\n",
    "c = np.matmul(a,b)\n",
    "print(c.shape)              # Prints \"(3,4,5,7)\"\n",
    "# Hint: The last two dimensions represent matrices, so we take those out and broadcast the rest: (3, 4) and (4,)\n",
    "#       Using our broadcasting rules, the result of broadcastingthese shapes will be (3, 4)\n",
    "#       Matrix multiplication results in a matrix of shape (5, 7)\n",
    "#       Our output will have shape (3, 4, 5, 7)\n",
    "\n",
    "d = np.dot(a, b)\n",
    "print(d.shape)             # Prints \"(3,4,5,4,7)\""
   ]
  },
  {
   "cell_type": "markdown",
   "metadata": {},
   "source": [
    "### Advices\n",
    "\n",
    "1. If you are unsure how an operation will work on ndarrays of a certain shape, try it out\n",
    "2. Create random matrices that have the shape you are looking at, do the operation, and check the shape of the output\n",
    "3. Python scripting in the terminal is great for this"
   ]
  },
  {
   "cell_type": "markdown",
   "metadata": {},
   "source": [
    "# 4 Matplotlib"
   ]
  },
  {
   "cell_type": "markdown",
   "metadata": {},
   "source": [
    "## 4.1 Plotting"
   ]
  },
  {
   "cell_type": "code",
   "execution_count": null,
   "metadata": {},
   "outputs": [],
   "source": [
    "%matplotlib inline  \n",
    "\n",
    "import matplotlib\n",
    "import numpy as np\n",
    "import matplotlib.pyplot as plt\n",
    "\n",
    "# Compute the x and y coordinate for points on a sine curve\n",
    "x = np.arange(0, 3*np.pi, 0.1)\n",
    "y_sin = np.sin(x)\n",
    "y_cos = np.cos(x)\n",
    "\n",
    "# Plot the points using matplotlib\n",
    "plt.plot(x, y_sin)\n",
    "plt.plot(x, y_cos)\n",
    "plt.xlabel('x axis label')\n",
    "plt.ylabel('y axis label')\n",
    "plt.title('Sine and Cosine')\n",
    "plt.legend(['Sine', 'Cosine'])\n",
    "plt.show()                       # You must call plt.show() to make graphics appear."
   ]
  },
  {
   "cell_type": "markdown",
   "metadata": {},
   "source": [
    "## 4.2 Subplot"
   ]
  },
  {
   "cell_type": "code",
   "execution_count": null,
   "metadata": {},
   "outputs": [],
   "source": [
    "%matplotlib inline  \n",
    "\n",
    "import numpy as np\n",
    "import matplotlib.pyplot as plt\n",
    "\n",
    "# Compute the x and y coordinates for points on sine and cosine curves\n",
    "x = np.arange(0, 3 * np.pi, 0.1)\n",
    "y_sin = np.sin(x)\n",
    "y_cos = np.cos(x)\n",
    "\n",
    "# Set up a subplot grid that has height 2 and width 1,\n",
    "# and set the first such subplot as active.\n",
    "plt.subplot(2, 1, 1)\n",
    "\n",
    "# Make the first plot\n",
    "plt.plot(x, y_sin)\n",
    "plt.title('Sine')\n",
    "\n",
    "# Set the second subplot as active, and make the second plot.\n",
    "plt.subplot(2, 1, 2)\n",
    "plt.plot(x, y_cos)\n",
    "plt.title('Cosine')\n",
    "\n",
    "# Show the figure.\n",
    "plt.show()\n"
   ]
  },
  {
   "cell_type": "markdown",
   "metadata": {},
   "source": [
    "# Demo"
   ]
  },
  {
   "cell_type": "markdown",
   "metadata": {},
   "source": [
    "Calculate the eigenvector associated with the dominant eigenvalue.\n",
    "\n",
    "Use the power iteration method: $b_{k+1}= \\frac{Ab_k}{||Ab_k||} $\n"
   ]
  },
  {
   "cell_type": "code",
   "execution_count": null,
   "metadata": {},
   "outputs": [],
   "source": [
    "import numpy as np\n",
    "\n",
    "def power_iteration(A, tolerance=1e-7):\n",
    "    b_old = np.random.rand(A.shape[1])\n",
    "    b = np.random.rand(A.shape[1])\n",
    "    num_iterations = 0\n",
    "    while num_iterations == 0 or np.linalg.norm(b_old - b) > tolerance:\n",
    "        b_old = np.copy(b)\n",
    "        b = np.dot(A, b)\n",
    "        b_norm = np.linalg.norm(b)\n",
    "        b /= b_norm\n",
    "        num_iterations += 1\n",
    "    return np.dot(A, b), b, num_iterations\n",
    "\n",
    "def main():\n",
    "    A = np.array([[.5, .4], [.2, .8]])\n",
    "    ab, b, number_iterations = power_iteration(A)\n",
    "\n",
    "    eig1 = ab[0] / b[0]\n",
    "    eig2 = ab[1] / b[1]\n",
    "    assert(np.abs((eig1 - eig2) / eig2) < 1e-5)\n",
    "\n",
    "    b /= b[1]\n",
    "\n",
    "    print(eig1, b, number_iterations)\n",
    "\n",
    "if __name__ == '__main__':\n",
    "    main()"
   ]
  },
  {
   "cell_type": "markdown",
   "metadata": {},
   "source": [
    "Reference:\n",
    "\n",
    "[1] Stanford CS231N python tutorial: https://cs231n.github.io/python-numpy-tutorial\n",
    "\n",
    "[2] Stanford CS224N python review: http://web.stanford.edu/class/cs224n/"
   ]
  }
 ],
 "metadata": {
  "kernelspec": {
   "display_name": "Python 3",
   "language": "python",
   "name": "python3"
  },
  "language_info": {
   "codemirror_mode": {
    "name": "ipython",
    "version": 3
   },
   "file_extension": ".py",
   "mimetype": "text/x-python",
   "name": "python",
   "nbconvert_exporter": "python",
   "pygments_lexer": "ipython3",
   "version": "3.7.4"
  }
 },
 "nbformat": 4,
 "nbformat_minor": 4
}

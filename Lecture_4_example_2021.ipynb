{
 "cells": [
  {
   "cell_type": "code",
   "execution_count": 1,
   "metadata": {},
   "outputs": [],
   "source": [
    "import pandas as pd  \n",
    "import numpy as np  \n",
    "import matplotlib.pyplot as plt  \n",
    "import seaborn as seabornInstance \n",
    "from sklearn.model_selection import train_test_split \n",
    "from sklearn.linear_model import LinearRegression\n",
    "from sklearn import metrics\n",
    "%matplotlib inline"
   ]
  },
  {
   "cell_type": "code",
   "execution_count": 2,
   "metadata": {},
   "outputs": [],
   "source": [
    "# Change the path\n",
    "dataset = pd.read_csv('Credit.csv')"
   ]
  },
  {
   "cell_type": "code",
   "execution_count": 3,
   "metadata": {},
   "outputs": [
    {
     "data": {
      "text/html": [
       "<div>\n",
       "<style scoped>\n",
       "    .dataframe tbody tr th:only-of-type {\n",
       "        vertical-align: middle;\n",
       "    }\n",
       "\n",
       "    .dataframe tbody tr th {\n",
       "        vertical-align: top;\n",
       "    }\n",
       "\n",
       "    .dataframe thead th {\n",
       "        text-align: right;\n",
       "    }\n",
       "</style>\n",
       "<table border=\"1\" class=\"dataframe\">\n",
       "  <thead>\n",
       "    <tr style=\"text-align: right;\">\n",
       "      <th></th>\n",
       "      <th>Unnamed: 0</th>\n",
       "      <th>Income</th>\n",
       "      <th>Limit</th>\n",
       "      <th>Rating</th>\n",
       "      <th>Cards</th>\n",
       "      <th>Age</th>\n",
       "      <th>Education</th>\n",
       "      <th>Gender</th>\n",
       "      <th>Student</th>\n",
       "      <th>Married</th>\n",
       "      <th>Ethnicity</th>\n",
       "      <th>Balance</th>\n",
       "    </tr>\n",
       "  </thead>\n",
       "  <tbody>\n",
       "    <tr>\n",
       "      <th>0</th>\n",
       "      <td>1</td>\n",
       "      <td>14.891</td>\n",
       "      <td>3606</td>\n",
       "      <td>283</td>\n",
       "      <td>2</td>\n",
       "      <td>34</td>\n",
       "      <td>11</td>\n",
       "      <td>Male</td>\n",
       "      <td>No</td>\n",
       "      <td>Yes</td>\n",
       "      <td>Caucasian</td>\n",
       "      <td>333</td>\n",
       "    </tr>\n",
       "    <tr>\n",
       "      <th>1</th>\n",
       "      <td>2</td>\n",
       "      <td>106.025</td>\n",
       "      <td>6645</td>\n",
       "      <td>483</td>\n",
       "      <td>3</td>\n",
       "      <td>82</td>\n",
       "      <td>15</td>\n",
       "      <td>Female</td>\n",
       "      <td>Yes</td>\n",
       "      <td>Yes</td>\n",
       "      <td>Asian</td>\n",
       "      <td>903</td>\n",
       "    </tr>\n",
       "    <tr>\n",
       "      <th>2</th>\n",
       "      <td>3</td>\n",
       "      <td>104.593</td>\n",
       "      <td>7075</td>\n",
       "      <td>514</td>\n",
       "      <td>4</td>\n",
       "      <td>71</td>\n",
       "      <td>11</td>\n",
       "      <td>Male</td>\n",
       "      <td>No</td>\n",
       "      <td>No</td>\n",
       "      <td>Asian</td>\n",
       "      <td>580</td>\n",
       "    </tr>\n",
       "    <tr>\n",
       "      <th>3</th>\n",
       "      <td>4</td>\n",
       "      <td>148.924</td>\n",
       "      <td>9504</td>\n",
       "      <td>681</td>\n",
       "      <td>3</td>\n",
       "      <td>36</td>\n",
       "      <td>11</td>\n",
       "      <td>Female</td>\n",
       "      <td>No</td>\n",
       "      <td>No</td>\n",
       "      <td>Asian</td>\n",
       "      <td>964</td>\n",
       "    </tr>\n",
       "    <tr>\n",
       "      <th>4</th>\n",
       "      <td>5</td>\n",
       "      <td>55.882</td>\n",
       "      <td>4897</td>\n",
       "      <td>357</td>\n",
       "      <td>2</td>\n",
       "      <td>68</td>\n",
       "      <td>16</td>\n",
       "      <td>Male</td>\n",
       "      <td>No</td>\n",
       "      <td>Yes</td>\n",
       "      <td>Caucasian</td>\n",
       "      <td>331</td>\n",
       "    </tr>\n",
       "    <tr>\n",
       "      <th>...</th>\n",
       "      <td>...</td>\n",
       "      <td>...</td>\n",
       "      <td>...</td>\n",
       "      <td>...</td>\n",
       "      <td>...</td>\n",
       "      <td>...</td>\n",
       "      <td>...</td>\n",
       "      <td>...</td>\n",
       "      <td>...</td>\n",
       "      <td>...</td>\n",
       "      <td>...</td>\n",
       "      <td>...</td>\n",
       "    </tr>\n",
       "    <tr>\n",
       "      <th>395</th>\n",
       "      <td>396</td>\n",
       "      <td>12.096</td>\n",
       "      <td>4100</td>\n",
       "      <td>307</td>\n",
       "      <td>3</td>\n",
       "      <td>32</td>\n",
       "      <td>13</td>\n",
       "      <td>Male</td>\n",
       "      <td>No</td>\n",
       "      <td>Yes</td>\n",
       "      <td>Caucasian</td>\n",
       "      <td>560</td>\n",
       "    </tr>\n",
       "    <tr>\n",
       "      <th>396</th>\n",
       "      <td>397</td>\n",
       "      <td>13.364</td>\n",
       "      <td>3838</td>\n",
       "      <td>296</td>\n",
       "      <td>5</td>\n",
       "      <td>65</td>\n",
       "      <td>17</td>\n",
       "      <td>Male</td>\n",
       "      <td>No</td>\n",
       "      <td>No</td>\n",
       "      <td>African American</td>\n",
       "      <td>480</td>\n",
       "    </tr>\n",
       "    <tr>\n",
       "      <th>397</th>\n",
       "      <td>398</td>\n",
       "      <td>57.872</td>\n",
       "      <td>4171</td>\n",
       "      <td>321</td>\n",
       "      <td>5</td>\n",
       "      <td>67</td>\n",
       "      <td>12</td>\n",
       "      <td>Female</td>\n",
       "      <td>No</td>\n",
       "      <td>Yes</td>\n",
       "      <td>Caucasian</td>\n",
       "      <td>138</td>\n",
       "    </tr>\n",
       "    <tr>\n",
       "      <th>398</th>\n",
       "      <td>399</td>\n",
       "      <td>37.728</td>\n",
       "      <td>2525</td>\n",
       "      <td>192</td>\n",
       "      <td>1</td>\n",
       "      <td>44</td>\n",
       "      <td>13</td>\n",
       "      <td>Male</td>\n",
       "      <td>No</td>\n",
       "      <td>Yes</td>\n",
       "      <td>Caucasian</td>\n",
       "      <td>0</td>\n",
       "    </tr>\n",
       "    <tr>\n",
       "      <th>399</th>\n",
       "      <td>400</td>\n",
       "      <td>18.701</td>\n",
       "      <td>5524</td>\n",
       "      <td>415</td>\n",
       "      <td>5</td>\n",
       "      <td>64</td>\n",
       "      <td>7</td>\n",
       "      <td>Female</td>\n",
       "      <td>No</td>\n",
       "      <td>No</td>\n",
       "      <td>Asian</td>\n",
       "      <td>966</td>\n",
       "    </tr>\n",
       "  </tbody>\n",
       "</table>\n",
       "<p>400 rows × 12 columns</p>\n",
       "</div>"
      ],
      "text/plain": [
       "     Unnamed: 0   Income  Limit  Rating  Cards  Age  Education  Gender  \\\n",
       "0             1   14.891   3606     283      2   34         11    Male   \n",
       "1             2  106.025   6645     483      3   82         15  Female   \n",
       "2             3  104.593   7075     514      4   71         11    Male   \n",
       "3             4  148.924   9504     681      3   36         11  Female   \n",
       "4             5   55.882   4897     357      2   68         16    Male   \n",
       "..          ...      ...    ...     ...    ...  ...        ...     ...   \n",
       "395         396   12.096   4100     307      3   32         13    Male   \n",
       "396         397   13.364   3838     296      5   65         17    Male   \n",
       "397         398   57.872   4171     321      5   67         12  Female   \n",
       "398         399   37.728   2525     192      1   44         13    Male   \n",
       "399         400   18.701   5524     415      5   64          7  Female   \n",
       "\n",
       "    Student Married         Ethnicity  Balance  \n",
       "0        No     Yes         Caucasian      333  \n",
       "1       Yes     Yes             Asian      903  \n",
       "2        No      No             Asian      580  \n",
       "3        No      No             Asian      964  \n",
       "4        No     Yes         Caucasian      331  \n",
       "..      ...     ...               ...      ...  \n",
       "395      No     Yes         Caucasian      560  \n",
       "396      No      No  African American      480  \n",
       "397      No     Yes         Caucasian      138  \n",
       "398      No     Yes         Caucasian        0  \n",
       "399      No      No             Asian      966  \n",
       "\n",
       "[400 rows x 12 columns]"
      ]
     },
     "execution_count": 3,
     "metadata": {},
     "output_type": "execute_result"
    }
   ],
   "source": [
    "dataset"
   ]
  },
  {
   "cell_type": "code",
   "execution_count": 4,
   "metadata": {},
   "outputs": [
    {
     "data": {
      "text/html": [
       "<div>\n",
       "<style scoped>\n",
       "    .dataframe tbody tr th:only-of-type {\n",
       "        vertical-align: middle;\n",
       "    }\n",
       "\n",
       "    .dataframe tbody tr th {\n",
       "        vertical-align: top;\n",
       "    }\n",
       "\n",
       "    .dataframe thead th {\n",
       "        text-align: right;\n",
       "    }\n",
       "</style>\n",
       "<table border=\"1\" class=\"dataframe\">\n",
       "  <thead>\n",
       "    <tr style=\"text-align: right;\">\n",
       "      <th></th>\n",
       "      <th>Unnamed: 0</th>\n",
       "      <th>Income</th>\n",
       "      <th>Limit</th>\n",
       "      <th>Rating</th>\n",
       "      <th>Cards</th>\n",
       "      <th>Age</th>\n",
       "      <th>Education</th>\n",
       "      <th>Balance</th>\n",
       "    </tr>\n",
       "  </thead>\n",
       "  <tbody>\n",
       "    <tr>\n",
       "      <th>count</th>\n",
       "      <td>400.000000</td>\n",
       "      <td>400.000000</td>\n",
       "      <td>400.000000</td>\n",
       "      <td>400.000000</td>\n",
       "      <td>400.000000</td>\n",
       "      <td>400.000000</td>\n",
       "      <td>400.000000</td>\n",
       "      <td>400.000000</td>\n",
       "    </tr>\n",
       "    <tr>\n",
       "      <th>mean</th>\n",
       "      <td>200.500000</td>\n",
       "      <td>45.218885</td>\n",
       "      <td>4735.600000</td>\n",
       "      <td>354.940000</td>\n",
       "      <td>2.957500</td>\n",
       "      <td>55.667500</td>\n",
       "      <td>13.450000</td>\n",
       "      <td>520.015000</td>\n",
       "    </tr>\n",
       "    <tr>\n",
       "      <th>std</th>\n",
       "      <td>115.614301</td>\n",
       "      <td>35.244273</td>\n",
       "      <td>2308.198848</td>\n",
       "      <td>154.724143</td>\n",
       "      <td>1.371275</td>\n",
       "      <td>17.249807</td>\n",
       "      <td>3.125207</td>\n",
       "      <td>459.758877</td>\n",
       "    </tr>\n",
       "    <tr>\n",
       "      <th>min</th>\n",
       "      <td>1.000000</td>\n",
       "      <td>10.354000</td>\n",
       "      <td>855.000000</td>\n",
       "      <td>93.000000</td>\n",
       "      <td>1.000000</td>\n",
       "      <td>23.000000</td>\n",
       "      <td>5.000000</td>\n",
       "      <td>0.000000</td>\n",
       "    </tr>\n",
       "    <tr>\n",
       "      <th>25%</th>\n",
       "      <td>100.750000</td>\n",
       "      <td>21.007250</td>\n",
       "      <td>3088.000000</td>\n",
       "      <td>247.250000</td>\n",
       "      <td>2.000000</td>\n",
       "      <td>41.750000</td>\n",
       "      <td>11.000000</td>\n",
       "      <td>68.750000</td>\n",
       "    </tr>\n",
       "    <tr>\n",
       "      <th>50%</th>\n",
       "      <td>200.500000</td>\n",
       "      <td>33.115500</td>\n",
       "      <td>4622.500000</td>\n",
       "      <td>344.000000</td>\n",
       "      <td>3.000000</td>\n",
       "      <td>56.000000</td>\n",
       "      <td>14.000000</td>\n",
       "      <td>459.500000</td>\n",
       "    </tr>\n",
       "    <tr>\n",
       "      <th>75%</th>\n",
       "      <td>300.250000</td>\n",
       "      <td>57.470750</td>\n",
       "      <td>5872.750000</td>\n",
       "      <td>437.250000</td>\n",
       "      <td>4.000000</td>\n",
       "      <td>70.000000</td>\n",
       "      <td>16.000000</td>\n",
       "      <td>863.000000</td>\n",
       "    </tr>\n",
       "    <tr>\n",
       "      <th>max</th>\n",
       "      <td>400.000000</td>\n",
       "      <td>186.634000</td>\n",
       "      <td>13913.000000</td>\n",
       "      <td>982.000000</td>\n",
       "      <td>9.000000</td>\n",
       "      <td>98.000000</td>\n",
       "      <td>20.000000</td>\n",
       "      <td>1999.000000</td>\n",
       "    </tr>\n",
       "  </tbody>\n",
       "</table>\n",
       "</div>"
      ],
      "text/plain": [
       "       Unnamed: 0      Income         Limit      Rating       Cards  \\\n",
       "count  400.000000  400.000000    400.000000  400.000000  400.000000   \n",
       "mean   200.500000   45.218885   4735.600000  354.940000    2.957500   \n",
       "std    115.614301   35.244273   2308.198848  154.724143    1.371275   \n",
       "min      1.000000   10.354000    855.000000   93.000000    1.000000   \n",
       "25%    100.750000   21.007250   3088.000000  247.250000    2.000000   \n",
       "50%    200.500000   33.115500   4622.500000  344.000000    3.000000   \n",
       "75%    300.250000   57.470750   5872.750000  437.250000    4.000000   \n",
       "max    400.000000  186.634000  13913.000000  982.000000    9.000000   \n",
       "\n",
       "              Age   Education      Balance  \n",
       "count  400.000000  400.000000   400.000000  \n",
       "mean    55.667500   13.450000   520.015000  \n",
       "std     17.249807    3.125207   459.758877  \n",
       "min     23.000000    5.000000     0.000000  \n",
       "25%     41.750000   11.000000    68.750000  \n",
       "50%     56.000000   14.000000   459.500000  \n",
       "75%     70.000000   16.000000   863.000000  \n",
       "max     98.000000   20.000000  1999.000000  "
      ]
     },
     "execution_count": 4,
     "metadata": {},
     "output_type": "execute_result"
    }
   ],
   "source": [
    "dataset.describe()"
   ]
  },
  {
   "cell_type": "code",
   "execution_count": 5,
   "metadata": {},
   "outputs": [
    {
     "data": {
      "image/png": "[encoded data removed]",
      "text/plain": [
       "<Figure size 432x288 with 1 Axes>"
      ]
     },
     "metadata": {
      "needs_background": "light"
     },
     "output_type": "display_data"
    }
   ],
   "source": [
    "# Input vs Output (Balace vs Income)\n",
    "dataset.plot(x='Income', y='Balance', style='o')  \n",
    "plt.title('Income vs Balance')  \n",
    "plt.xlabel('Income')  \n",
    "plt.ylabel('Balance')  \n",
    "plt.show()"
   ]
  },
  {
   "cell_type": "code",
   "execution_count": 6,
   "metadata": {},
   "outputs": [
    {
     "data": {
      "image/png": "[encoded data removed]",
      "text/plain": [
       "<Figure size 432x288 with 1 Axes>"
      ]
     },
     "metadata": {
      "needs_background": "light"
     },
     "output_type": "display_data"
    }
   ],
   "source": [
    "# Input vs Output (Balace vs Income)\n",
    "dataset.plot(x='Rating', y='Balance', style='o')  \n",
    "plt.title('Rating vs Balance')  \n",
    "plt.xlabel('Rating')  \n",
    "plt.ylabel('Balance')  \n",
    "plt.show()"
   ]
  },
  {
   "cell_type": "code",
   "execution_count": 7,
   "metadata": {},
   "outputs": [
    {
     "name": "stderr",
     "output_type": "stream",
     "text": [
      "C:\\Users\\WILLCA~1\\AppData\\Local\\Temp/ipykernel_18200/2739100896.py:11: MatplotlibDeprecationWarning: Axes3D(fig) adding itself to the figure is deprecated since 3.4. Pass the keyword argument auto_add_to_figure=False and use fig.add_axes(ax) to suppress this warning. The default value of auto_add_to_figure will change to False in mpl3.5 and True values will no longer work in 3.6.  This is consistent with other Axes classes.\n",
      "  ax = Axes3D(fig)\n"
     ]
    },
    {
     "data": {
      "image/png": "[encoded data removed]",
      "text/plain": [
       "<Figure size 432x288 with 1 Axes>"
      ]
     },
     "metadata": {
      "needs_background": "light"
     },
     "output_type": "display_data"
    }
   ],
   "source": [
    "from mpl_toolkits.mplot3d import Axes3D\n",
    "import random\n",
    "\n",
    "# Input vs Outpt (Balanace vs Income & Gender)\n",
    "xs = dataset['Income'].values.reshape(-1,1)\n",
    "ys = dataset['Gender'].values.reshape(-1,1)=='Female'\n",
    "zs = dataset['Balance'].values.reshape(-1,1)\n",
    "\n",
    "\n",
    "fig = plt.figure()\n",
    "ax = Axes3D(fig)\n",
    "\n",
    "ax.scatter(xs, ys, zs,s=100, edgecolor=\"k\", facecolor=\"gold\")\n",
    "plt.xlabel('Income')  \n",
    "plt.ylabel('Gender') \n",
    "plt.show()"
   ]
  },
  {
   "cell_type": "code",
   "execution_count": 8,
   "metadata": {},
   "outputs": [
    {
     "data": {
      "text/plain": [
       "Text(0, 0.5, 'Balance')"
      ]
     },
     "execution_count": 8,
     "metadata": {},
     "output_type": "execute_result"
    },
    {
     "data": {
      "image/png": "[encoded data removed]",
      "text/plain": [
       "<Figure size 432x288 with 1 Axes>"
      ]
     },
     "metadata": {
      "needs_background": "light"
     },
     "output_type": "display_data"
    }
   ],
   "source": [
    "# Balance vs Gender (1 is for female, 0 is for male)\n",
    "f_xs = []\n",
    "f_zs = []\n",
    "g_xs = []\n",
    "g_zs = []\n",
    "for x in range(0,len(ys)):\n",
    "    if ys[x]==True:\n",
    "        #f_xs.append(xs[x])\n",
    "        f_xs.append(1+0.02*np.random.normal())\n",
    "        f_zs.append(zs[x])\n",
    "    if ys[x]==False:\n",
    "        #g_xs.append(xs[x])\n",
    "        g_xs.append(0+0.02*np.random.normal())\n",
    "        g_zs.append(zs[x])\n",
    "        \n",
    "plt.plot(f_xs,f_zs,'o')    \n",
    "plt.plot(g_xs,g_zs,'*')  \n",
    "plt.xlabel('Gender')\n",
    "plt.ylabel('Balance')\n",
    "\n"
   ]
  },
  {
   "cell_type": "code",
   "execution_count": 9,
   "metadata": {},
   "outputs": [
    {
     "data": {
      "text/plain": [
       "Text(0, 0.5, 'Balance')"
      ]
     },
     "execution_count": 9,
     "metadata": {},
     "output_type": "execute_result"
    },
    {
     "data": {
      "image/png": "[encoded data removed]",
      "text/plain": [
       "<Figure size 432x288 with 1 Axes>"
      ]
     },
     "metadata": {
      "needs_background": "light"
     },
     "output_type": "display_data"
    }
   ],
   "source": [
    "# Balance vs Income conditioned on Gender\n",
    "f_xs = []\n",
    "f_zs = []\n",
    "g_xs = []\n",
    "g_zs = []\n",
    "for x in range(0,len(ys)):\n",
    "    if ys[x]==True:\n",
    "        f_xs.append(xs[x])\n",
    "        #f_xs.append(1+0.1*np.random.normal())\n",
    "        f_zs.append(zs[x])\n",
    "    if ys[x]==False:\n",
    "        g_xs.append(xs[x])\n",
    "        #g_xs.append(0+0.1*np.random.normal())\n",
    "        g_zs.append(zs[x])\n",
    "        \n",
    "plt.plot(f_xs,f_zs,'ro')    \n",
    "plt.plot(g_xs,g_zs,'b*') \n",
    "plt.xlabel('Income')\n",
    "plt.ylabel('Balance')"
   ]
  },
  {
   "cell_type": "code",
   "execution_count": 10,
   "metadata": {},
   "outputs": [
    {
     "data": {
      "text/html": [
       "<table class=\"simpletable\">\n",
       "<caption>OLS Regression Results</caption>\n",
       "<tr>\n",
       "  <th>Dep. Variable:</th>            <td>y</td>        <th>  R-squared:         </th> <td>   0.000</td>\n",
       "</tr>\n",
       "<tr>\n",
       "  <th>Model:</th>                   <td>OLS</td>       <th>  Adj. R-squared:    </th> <td>  -0.002</td>\n",
       "</tr>\n",
       "<tr>\n",
       "  <th>Method:</th>             <td>Least Squares</td>  <th>  F-statistic:       </th> <td>  0.1836</td>\n",
       "</tr>\n",
       "<tr>\n",
       "  <th>Date:</th>             <td>Thu, 18 Nov 2021</td> <th>  Prob (F-statistic):</th>  <td> 0.669</td> \n",
       "</tr>\n",
       "<tr>\n",
       "  <th>Time:</th>                 <td>10:53:45</td>     <th>  Log-Likelihood:    </th> <td> -3019.3</td>\n",
       "</tr>\n",
       "<tr>\n",
       "  <th>No. Observations:</th>      <td>   400</td>      <th>  AIC:               </th> <td>   6043.</td>\n",
       "</tr>\n",
       "<tr>\n",
       "  <th>Df Residuals:</th>          <td>   398</td>      <th>  BIC:               </th> <td>   6051.</td>\n",
       "</tr>\n",
       "<tr>\n",
       "  <th>Df Model:</th>              <td>     1</td>      <th>                     </th>     <td> </td>   \n",
       "</tr>\n",
       "<tr>\n",
       "  <th>Covariance Type:</th>      <td>nonrobust</td>    <th>                     </th>     <td> </td>   \n",
       "</tr>\n",
       "</table>\n",
       "<table class=\"simpletable\">\n",
       "<tr>\n",
       "    <td></td>       <th>coef</th>     <th>std err</th>      <th>t</th>      <th>P>|t|</th>  <th>[0.025</th>    <th>0.975]</th>  \n",
       "</tr>\n",
       "<tr>\n",
       "  <th>const</th> <td>  509.8031</td> <td>   33.128</td> <td>   15.389</td> <td> 0.000</td> <td>  444.675</td> <td>  574.931</td>\n",
       "</tr>\n",
       "<tr>\n",
       "  <th>x1</th>    <td>   19.7331</td> <td>   46.051</td> <td>    0.429</td> <td> 0.669</td> <td>  -70.801</td> <td>  110.267</td>\n",
       "</tr>\n",
       "</table>\n",
       "<table class=\"simpletable\">\n",
       "<tr>\n",
       "  <th>Omnibus:</th>       <td>28.438</td> <th>  Durbin-Watson:     </th> <td>   1.940</td>\n",
       "</tr>\n",
       "<tr>\n",
       "  <th>Prob(Omnibus):</th> <td> 0.000</td> <th>  Jarque-Bera (JB):  </th> <td>  27.346</td>\n",
       "</tr>\n",
       "<tr>\n",
       "  <th>Skew:</th>          <td> 0.583</td> <th>  Prob(JB):          </th> <td>1.15e-06</td>\n",
       "</tr>\n",
       "<tr>\n",
       "  <th>Kurtosis:</th>      <td> 2.471</td> <th>  Cond. No.          </th> <td>    2.66</td>\n",
       "</tr>\n",
       "</table><br/><br/>Notes:<br/>[1] Standard Errors assume that the covariance matrix of the errors is correctly specified."
      ],
      "text/plain": [
       "<class 'statsmodels.iolib.summary.Summary'>\n",
       "\"\"\"\n",
       "                            OLS Regression Results                            \n",
       "==============================================================================\n",
       "Dep. Variable:                      y   R-squared:                       0.000\n",
       "Model:                            OLS   Adj. R-squared:                 -0.002\n",
       "Method:                 Least Squares   F-statistic:                    0.1836\n",
       "Date:                Thu, 18 Nov 2021   Prob (F-statistic):              0.669\n",
       "Time:                        10:53:45   Log-Likelihood:                -3019.3\n",
       "No. Observations:                 400   AIC:                             6043.\n",
       "Df Residuals:                     398   BIC:                             6051.\n",
       "Df Model:                           1                                         \n",
       "Covariance Type:            nonrobust                                         \n",
       "==============================================================================\n",
       "                 coef    std err          t      P>|t|      [0.025      0.975]\n",
       "------------------------------------------------------------------------------\n",
       "const        509.8031     33.128     15.389      0.000     444.675     574.931\n",
       "x1            19.7331     46.051      0.429      0.669     -70.801     110.267\n",
       "==============================================================================\n",
       "Omnibus:                       28.438   Durbin-Watson:                   1.940\n",
       "Prob(Omnibus):                  0.000   Jarque-Bera (JB):               27.346\n",
       "Skew:                           0.583   Prob(JB):                     1.15e-06\n",
       "Kurtosis:                       2.471   Cond. No.                         2.66\n",
       "==============================================================================\n",
       "\n",
       "Notes:\n",
       "[1] Standard Errors assume that the covariance matrix of the errors is correctly specified.\n",
       "\"\"\""
      ]
     },
     "execution_count": 10,
     "metadata": {},
     "output_type": "execute_result"
    }
   ],
   "source": [
    "# Note that sklearn does not provide summary for the linear regression fit; we use another package here!\n",
    "# Another solution using statemodels.api\n",
    "import statsmodels.api as sm\n",
    "# Input vs Output (Balance as a function of Gender)\n",
    "X_train = []\n",
    "temp = dataset['Gender'].values.reshape(-1,1);\n",
    "for x in range(0,len(temp)):\n",
    "    if temp[x]=='Female':\n",
    "        X_train.append(1)\n",
    "    if temp[x]=='Male':\n",
    "        X_train.append(0)\n",
    "y_train = dataset['Balance'].values.reshape(-1,1)\n",
    "\n",
    "X = sm.add_constant(X_train)\n",
    "model = sm.OLS(y_train,X).fit()\n",
    "model.summary()  \n"
   ]
  },
  {
   "cell_type": "code",
   "execution_count": 11,
   "metadata": {},
   "outputs": [
    {
     "data": {
      "text/plain": [
       "[<matplotlib.lines.Line2D at 0x1d0077aea60>]"
      ]
     },
     "execution_count": 11,
     "metadata": {},
     "output_type": "execute_result"
    },
    {
     "data": {
      "image/png": "[encoded data removed]",
      "text/plain": [
       "<Figure size 432x288 with 1 Axes>"
      ]
     },
     "metadata": {
      "needs_background": "light"
     },
     "output_type": "display_data"
    }
   ],
   "source": [
    "# Plot Prediction vs Observed\n",
    "# Predict\n",
    "y_pred = model.predict(X)\n",
    "\n",
    "# Plot\n",
    "plt.plot(X_train,y_train,'+')    \n",
    "plt.plot(X_train,y_pred,'o') \n",
    "plt.plot(X_train,y_pred) "
   ]
  },
  {
   "cell_type": "code",
   "execution_count": 12,
   "metadata": {},
   "outputs": [
    {
     "data": {
      "text/html": [
       "<table class=\"simpletable\">\n",
       "<caption>OLS Regression Results</caption>\n",
       "<tr>\n",
       "  <th>Dep. Variable:</th>            <td>y</td>        <th>  R-squared:         </th> <td>   0.000</td>\n",
       "</tr>\n",
       "<tr>\n",
       "  <th>Model:</th>                   <td>OLS</td>       <th>  Adj. R-squared:    </th> <td>  -0.002</td>\n",
       "</tr>\n",
       "<tr>\n",
       "  <th>Method:</th>             <td>Least Squares</td>  <th>  F-statistic:       </th> <td>  0.1836</td>\n",
       "</tr>\n",
       "<tr>\n",
       "  <th>Date:</th>             <td>Thu, 18 Nov 2021</td> <th>  Prob (F-statistic):</th>  <td> 0.669</td> \n",
       "</tr>\n",
       "<tr>\n",
       "  <th>Time:</th>                 <td>10:53:46</td>     <th>  Log-Likelihood:    </th> <td> -3019.3</td>\n",
       "</tr>\n",
       "<tr>\n",
       "  <th>No. Observations:</th>      <td>   400</td>      <th>  AIC:               </th> <td>   6043.</td>\n",
       "</tr>\n",
       "<tr>\n",
       "  <th>Df Residuals:</th>          <td>   398</td>      <th>  BIC:               </th> <td>   6051.</td>\n",
       "</tr>\n",
       "<tr>\n",
       "  <th>Df Model:</th>              <td>     1</td>      <th>                     </th>     <td> </td>   \n",
       "</tr>\n",
       "<tr>\n",
       "  <th>Covariance Type:</th>      <td>nonrobust</td>    <th>                     </th>     <td> </td>   \n",
       "</tr>\n",
       "</table>\n",
       "<table class=\"simpletable\">\n",
       "<tr>\n",
       "    <td></td>       <th>coef</th>     <th>std err</th>      <th>t</th>      <th>P>|t|</th>  <th>[0.025</th>    <th>0.975]</th>  \n",
       "</tr>\n",
       "<tr>\n",
       "  <th>const</th> <td>  519.6697</td> <td>   23.026</td> <td>   22.569</td> <td> 0.000</td> <td>  474.403</td> <td>  564.937</td>\n",
       "</tr>\n",
       "<tr>\n",
       "  <th>x1</th>    <td>    9.8666</td> <td>   23.026</td> <td>    0.429</td> <td> 0.669</td> <td>  -35.400</td> <td>   55.134</td>\n",
       "</tr>\n",
       "</table>\n",
       "<table class=\"simpletable\">\n",
       "<tr>\n",
       "  <th>Omnibus:</th>       <td>28.438</td> <th>  Durbin-Watson:     </th> <td>   1.940</td>\n",
       "</tr>\n",
       "<tr>\n",
       "  <th>Prob(Omnibus):</th> <td> 0.000</td> <th>  Jarque-Bera (JB):  </th> <td>  27.346</td>\n",
       "</tr>\n",
       "<tr>\n",
       "  <th>Skew:</th>          <td> 0.583</td> <th>  Prob(JB):          </th> <td>1.15e-06</td>\n",
       "</tr>\n",
       "<tr>\n",
       "  <th>Kurtosis:</th>      <td> 2.471</td> <th>  Cond. No.          </th> <td>    1.04</td>\n",
       "</tr>\n",
       "</table><br/><br/>Notes:<br/>[1] Standard Errors assume that the covariance matrix of the errors is correctly specified."
      ],
      "text/plain": [
       "<class 'statsmodels.iolib.summary.Summary'>\n",
       "\"\"\"\n",
       "                            OLS Regression Results                            \n",
       "==============================================================================\n",
       "Dep. Variable:                      y   R-squared:                       0.000\n",
       "Model:                            OLS   Adj. R-squared:                 -0.002\n",
       "Method:                 Least Squares   F-statistic:                    0.1836\n",
       "Date:                Thu, 18 Nov 2021   Prob (F-statistic):              0.669\n",
       "Time:                        10:53:46   Log-Likelihood:                -3019.3\n",
       "No. Observations:                 400   AIC:                             6043.\n",
       "Df Residuals:                     398   BIC:                             6051.\n",
       "Df Model:                           1                                         \n",
       "Covariance Type:            nonrobust                                         \n",
       "==============================================================================\n",
       "                 coef    std err          t      P>|t|      [0.025      0.975]\n",
       "------------------------------------------------------------------------------\n",
       "const        519.6697     23.026     22.569      0.000     474.403     564.937\n",
       "x1             9.8666     23.026      0.429      0.669     -35.400      55.134\n",
       "==============================================================================\n",
       "Omnibus:                       28.438   Durbin-Watson:                   1.940\n",
       "Prob(Omnibus):                  0.000   Jarque-Bera (JB):               27.346\n",
       "Skew:                           0.583   Prob(JB):                     1.15e-06\n",
       "Kurtosis:                       2.471   Cond. No.                         1.04\n",
       "==============================================================================\n",
       "\n",
       "Notes:\n",
       "[1] Standard Errors assume that the covariance matrix of the errors is correctly specified.\n",
       "\"\"\""
      ]
     },
     "execution_count": 12,
     "metadata": {},
     "output_type": "execute_result"
    }
   ],
   "source": [
    "# Note that sklearn does not provide summary for the linear regression fit; we use another package here!\n",
    "# Another solution using statemodels.api\n",
    "import statsmodels.api as sm\n",
    "# Input vs Output (Balance as a function of Gender)\n",
    "X_train = []\n",
    "temp = dataset['Gender'].values.reshape(-1,1);\n",
    "for x in range(0,len(temp)):\n",
    "    if temp[x]=='Female':\n",
    "        X_train.append(1)\n",
    "    if temp[x]=='Male':\n",
    "        X_train.append(-1)\n",
    "y_train = dataset['Balance'].values.reshape(-1,1)\n",
    "\n",
    "X = sm.add_constant(X_train)\n",
    "model = sm.OLS(y_train,X).fit()\n",
    "model.summary() "
   ]
  },
  {
   "cell_type": "code",
   "execution_count": 13,
   "metadata": {},
   "outputs": [
    {
     "data": {
      "text/html": [
       "<table class=\"simpletable\">\n",
       "<caption>OLS Regression Results</caption>\n",
       "<tr>\n",
       "  <th>Dep. Variable:</th>            <td>y</td>        <th>  R-squared:         </th> <td>   0.000</td>\n",
       "</tr>\n",
       "<tr>\n",
       "  <th>Model:</th>                   <td>OLS</td>       <th>  Adj. R-squared:    </th> <td>  -0.005</td>\n",
       "</tr>\n",
       "<tr>\n",
       "  <th>Method:</th>             <td>Least Squares</td>  <th>  F-statistic:       </th> <td> 0.04344</td>\n",
       "</tr>\n",
       "<tr>\n",
       "  <th>Date:</th>             <td>Thu, 18 Nov 2021</td> <th>  Prob (F-statistic):</th>  <td> 0.957</td> \n",
       "</tr>\n",
       "<tr>\n",
       "  <th>Time:</th>                 <td>10:53:46</td>     <th>  Log-Likelihood:    </th> <td> -3019.3</td>\n",
       "</tr>\n",
       "<tr>\n",
       "  <th>No. Observations:</th>      <td>   400</td>      <th>  AIC:               </th> <td>   6045.</td>\n",
       "</tr>\n",
       "<tr>\n",
       "  <th>Df Residuals:</th>          <td>   397</td>      <th>  BIC:               </th> <td>   6057.</td>\n",
       "</tr>\n",
       "<tr>\n",
       "  <th>Df Model:</th>              <td>     2</td>      <th>                     </th>     <td> </td>   \n",
       "</tr>\n",
       "<tr>\n",
       "  <th>Covariance Type:</th>      <td>nonrobust</td>    <th>                     </th>     <td> </td>   \n",
       "</tr>\n",
       "</table>\n",
       "<table class=\"simpletable\">\n",
       "<tr>\n",
       "    <td></td>       <th>coef</th>     <th>std err</th>      <th>t</th>      <th>P>|t|</th>  <th>[0.025</th>    <th>0.975]</th>  \n",
       "</tr>\n",
       "<tr>\n",
       "  <th>const</th> <td>  531.0000</td> <td>   46.319</td> <td>   11.464</td> <td> 0.000</td> <td>  439.939</td> <td>  622.061</td>\n",
       "</tr>\n",
       "<tr>\n",
       "  <th>x1</th>    <td>  -12.5025</td> <td>   56.681</td> <td>   -0.221</td> <td> 0.826</td> <td> -123.935</td> <td>   98.930</td>\n",
       "</tr>\n",
       "<tr>\n",
       "  <th>x2</th>    <td>  -18.6863</td> <td>   65.021</td> <td>   -0.287</td> <td> 0.774</td> <td> -146.515</td> <td>  109.142</td>\n",
       "</tr>\n",
       "</table>\n",
       "<table class=\"simpletable\">\n",
       "<tr>\n",
       "  <th>Omnibus:</th>       <td>28.829</td> <th>  Durbin-Watson:     </th> <td>   1.946</td>\n",
       "</tr>\n",
       "<tr>\n",
       "  <th>Prob(Omnibus):</th> <td> 0.000</td> <th>  Jarque-Bera (JB):  </th> <td>  27.395</td>\n",
       "</tr>\n",
       "<tr>\n",
       "  <th>Skew:</th>          <td> 0.581</td> <th>  Prob(JB):          </th> <td>1.13e-06</td>\n",
       "</tr>\n",
       "<tr>\n",
       "  <th>Kurtosis:</th>      <td> 2.460</td> <th>  Cond. No.          </th> <td>    4.39</td>\n",
       "</tr>\n",
       "</table><br/><br/>Notes:<br/>[1] Standard Errors assume that the covariance matrix of the errors is correctly specified."
      ],
      "text/plain": [
       "<class 'statsmodels.iolib.summary.Summary'>\n",
       "\"\"\"\n",
       "                            OLS Regression Results                            \n",
       "==============================================================================\n",
       "Dep. Variable:                      y   R-squared:                       0.000\n",
       "Model:                            OLS   Adj. R-squared:                 -0.005\n",
       "Method:                 Least Squares   F-statistic:                   0.04344\n",
       "Date:                Thu, 18 Nov 2021   Prob (F-statistic):              0.957\n",
       "Time:                        10:53:46   Log-Likelihood:                -3019.3\n",
       "No. Observations:                 400   AIC:                             6045.\n",
       "Df Residuals:                     397   BIC:                             6057.\n",
       "Df Model:                           2                                         \n",
       "Covariance Type:            nonrobust                                         \n",
       "==============================================================================\n",
       "                 coef    std err          t      P>|t|      [0.025      0.975]\n",
       "------------------------------------------------------------------------------\n",
       "const        531.0000     46.319     11.464      0.000     439.939     622.061\n",
       "x1           -12.5025     56.681     -0.221      0.826    -123.935      98.930\n",
       "x2           -18.6863     65.021     -0.287      0.774    -146.515     109.142\n",
       "==============================================================================\n",
       "Omnibus:                       28.829   Durbin-Watson:                   1.946\n",
       "Prob(Omnibus):                  0.000   Jarque-Bera (JB):               27.395\n",
       "Skew:                           0.581   Prob(JB):                     1.13e-06\n",
       "Kurtosis:                       2.460   Cond. No.                         4.39\n",
       "==============================================================================\n",
       "\n",
       "Notes:\n",
       "[1] Standard Errors assume that the covariance matrix of the errors is correctly specified.\n",
       "\"\"\""
      ]
     },
     "execution_count": 13,
     "metadata": {},
     "output_type": "execute_result"
    }
   ],
   "source": [
    "# Note that sklearn does not provide summary for the linear regression fit; we use another package here!\n",
    "# Another solution using statemodels.api\n",
    "import statsmodels.api as sm\n",
    "# Input vs Output (Balance vs Ethnicity, multiple levels)\n",
    "X_train = []\n",
    "temp = dataset['Ethnicity'].values.reshape(-1,1);\n",
    "for x in range(0,len(temp)):\n",
    "    if temp[x]=='Asian':\n",
    "        X_train.append([0, 1])\n",
    "    elif temp[x]=='Caucasian':\n",
    "        X_train.append([1, 0])\n",
    "    else:\n",
    "        X_train.append([0, 0])\n",
    "\n",
    "X = sm.add_constant(X_train)\n",
    "\n",
    "y_train   = dataset['Balance'].values.reshape(-1,1)\n",
    "\n",
    "model = sm.OLS(y_train,X).fit()\n",
    "model.summary()  \n"
   ]
  },
  {
   "cell_type": "code",
   "execution_count": 14,
   "metadata": {},
   "outputs": [
    {
     "name": "stderr",
     "output_type": "stream",
     "text": [
      "C:\\Users\\WILLCA~1\\AppData\\Local\\Temp/ipykernel_18200/2877888418.py:7: DeprecationWarning: np.asscalar(a) is deprecated since NumPy v1.16, use a.item() instead\n",
      "  X_train.append([1,np.asscalar(temp_e[x]),0])\n",
      "C:\\Users\\WILLCA~1\\AppData\\Local\\Temp/ipykernel_18200/2877888418.py:9: DeprecationWarning: np.asscalar(a) is deprecated since NumPy v1.16, use a.item() instead\n",
      "  X_train.append([1,np.asscalar(temp_e[x]),1])\n"
     ]
    },
    {
     "data": {
      "text/html": [
       "<table class=\"simpletable\">\n",
       "<caption>OLS Regression Results</caption>\n",
       "<tr>\n",
       "  <th>Dep. Variable:</th>            <td>y</td>        <th>  R-squared:         </th> <td>   0.277</td>\n",
       "</tr>\n",
       "<tr>\n",
       "  <th>Model:</th>                   <td>OLS</td>       <th>  Adj. R-squared:    </th> <td>   0.274</td>\n",
       "</tr>\n",
       "<tr>\n",
       "  <th>Method:</th>             <td>Least Squares</td>  <th>  F-statistic:       </th> <td>   76.22</td>\n",
       "</tr>\n",
       "<tr>\n",
       "  <th>Date:</th>             <td>Thu, 18 Nov 2021</td> <th>  Prob (F-statistic):</th> <td>9.64e-29</td>\n",
       "</tr>\n",
       "<tr>\n",
       "  <th>Time:</th>                 <td>10:53:46</td>     <th>  Log-Likelihood:    </th> <td> -2954.4</td>\n",
       "</tr>\n",
       "<tr>\n",
       "  <th>No. Observations:</th>      <td>   400</td>      <th>  AIC:               </th> <td>   5915.</td>\n",
       "</tr>\n",
       "<tr>\n",
       "  <th>Df Residuals:</th>          <td>   397</td>      <th>  BIC:               </th> <td>   5927.</td>\n",
       "</tr>\n",
       "<tr>\n",
       "  <th>Df Model:</th>              <td>     2</td>      <th>                     </th>     <td> </td>   \n",
       "</tr>\n",
       "<tr>\n",
       "  <th>Covariance Type:</th>      <td>nonrobust</td>    <th>                     </th>     <td> </td>   \n",
       "</tr>\n",
       "</table>\n",
       "<table class=\"simpletable\">\n",
       "<tr>\n",
       "    <td></td>       <th>coef</th>     <th>std err</th>      <th>t</th>      <th>P>|t|</th>  <th>[0.025</th>    <th>0.975]</th>  \n",
       "</tr>\n",
       "<tr>\n",
       "  <th>const</th> <td>  211.1430</td> <td>   32.457</td> <td>    6.505</td> <td> 0.000</td> <td>  147.333</td> <td>  274.952</td>\n",
       "</tr>\n",
       "<tr>\n",
       "  <th>x1</th>    <td>    5.9843</td> <td>    0.557</td> <td>   10.751</td> <td> 0.000</td> <td>    4.890</td> <td>    7.079</td>\n",
       "</tr>\n",
       "<tr>\n",
       "  <th>x2</th>    <td>  382.6705</td> <td>   65.311</td> <td>    5.859</td> <td> 0.000</td> <td>  254.272</td> <td>  511.069</td>\n",
       "</tr>\n",
       "</table>\n",
       "<table class=\"simpletable\">\n",
       "<tr>\n",
       "  <th>Omnibus:</th>       <td>119.719</td> <th>  Durbin-Watson:     </th> <td>   1.951</td>\n",
       "</tr>\n",
       "<tr>\n",
       "  <th>Prob(Omnibus):</th> <td> 0.000</td>  <th>  Jarque-Bera (JB):  </th> <td>  23.617</td>\n",
       "</tr>\n",
       "<tr>\n",
       "  <th>Skew:</th>          <td> 0.252</td>  <th>  Prob(JB):          </th> <td>7.44e-06</td>\n",
       "</tr>\n",
       "<tr>\n",
       "  <th>Kurtosis:</th>      <td> 1.922</td>  <th>  Cond. No.          </th> <td>    192.</td>\n",
       "</tr>\n",
       "</table><br/><br/>Notes:<br/>[1] Standard Errors assume that the covariance matrix of the errors is correctly specified."
      ],
      "text/plain": [
       "<class 'statsmodels.iolib.summary.Summary'>\n",
       "\"\"\"\n",
       "                            OLS Regression Results                            \n",
       "==============================================================================\n",
       "Dep. Variable:                      y   R-squared:                       0.277\n",
       "Model:                            OLS   Adj. R-squared:                  0.274\n",
       "Method:                 Least Squares   F-statistic:                     76.22\n",
       "Date:                Thu, 18 Nov 2021   Prob (F-statistic):           9.64e-29\n",
       "Time:                        10:53:46   Log-Likelihood:                -2954.4\n",
       "No. Observations:                 400   AIC:                             5915.\n",
       "Df Residuals:                     397   BIC:                             5927.\n",
       "Df Model:                           2                                         \n",
       "Covariance Type:            nonrobust                                         \n",
       "==============================================================================\n",
       "                 coef    std err          t      P>|t|      [0.025      0.975]\n",
       "------------------------------------------------------------------------------\n",
       "const        211.1430     32.457      6.505      0.000     147.333     274.952\n",
       "x1             5.9843      0.557     10.751      0.000       4.890       7.079\n",
       "x2           382.6705     65.311      5.859      0.000     254.272     511.069\n",
       "==============================================================================\n",
       "Omnibus:                      119.719   Durbin-Watson:                   1.951\n",
       "Prob(Omnibus):                  0.000   Jarque-Bera (JB):               23.617\n",
       "Skew:                           0.252   Prob(JB):                     7.44e-06\n",
       "Kurtosis:                       1.922   Cond. No.                         192.\n",
       "==============================================================================\n",
       "\n",
       "Notes:\n",
       "[1] Standard Errors assume that the covariance matrix of the errors is correctly specified.\n",
       "\"\"\""
      ]
     },
     "execution_count": 14,
     "metadata": {},
     "output_type": "execute_result"
    }
   ],
   "source": [
    "# Balance vs Income plus Student (0/1)\n",
    "X_train = []\n",
    "temp = dataset['Student'].values.reshape(-1,1);\n",
    "temp_e = dataset['Income'].values.reshape(-1,1);\n",
    "for x in range(0,len(temp)):\n",
    "    if temp[x]=='No':\n",
    "        X_train.append([1,np.asscalar(temp_e[x]),0])\n",
    "    if temp[x]=='Yes':\n",
    "        X_train.append([1,np.asscalar(temp_e[x]),1])\n",
    "\n",
    "y_train   = dataset['Balance'].values.reshape(-1,1)\n",
    "\n",
    "model = sm.OLS(y_train,X_train).fit()\n",
    "model.summary()  "
   ]
  },
  {
   "cell_type": "code",
   "execution_count": 15,
   "metadata": {},
   "outputs": [
    {
     "data": {
      "text/plain": [
       "Text(0, 0.5, 'fitted')"
      ]
     },
     "execution_count": 15,
     "metadata": {},
     "output_type": "execute_result"
    },
    {
     "data": {
      "image/png": "[encoded data removed]",
      "text/plain": [
       "<Figure size 432x288 with 1 Axes>"
      ]
     },
     "metadata": {
      "needs_background": "light"
     },
     "output_type": "display_data"
    }
   ],
   "source": [
    "# fitted vs training\n",
    "y_pred = model.predict(X_train)\n",
    "\n",
    "plt.plot(y_train,y_pred,'*')\n",
    "plt.plot(y_train,y_train)\n",
    "plt.xlabel('training')\n",
    "plt.ylabel('fitted')"
   ]
  },
  {
   "cell_type": "code",
   "execution_count": 16,
   "metadata": {},
   "outputs": [
    {
     "data": {
      "text/plain": [
       "Text(0, 0.5, 'err')"
      ]
     },
     "execution_count": 16,
     "metadata": {},
     "output_type": "execute_result"
    },
    {
     "data": {
      "image/png": "[encoded data removed]",
      "text/plain": [
       "<Figure size 432x288 with 1 Axes>"
      ]
     },
     "metadata": {
      "needs_background": "light"
     },
     "output_type": "display_data"
    }
   ],
   "source": [
    "# err vs fitted\n",
    "err = []\n",
    "X   = []\n",
    "for x in range(0,len(y_train)):\n",
    "        err.append(y_pred[x]-y_train[x])\n",
    "        X.append(y_pred[x])\n",
    "        \n",
    "plt.plot(X,err,'*')\n",
    "plt.xlabel('fitted')\n",
    "plt.ylabel('err')"
   ]
  },
  {
   "cell_type": "code",
   "execution_count": 17,
   "metadata": {},
   "outputs": [
    {
     "name": "stderr",
     "output_type": "stream",
     "text": [
      "C:\\Users\\WILLCA~1\\AppData\\Local\\Temp/ipykernel_18200/3989287745.py:7: DeprecationWarning: np.asscalar(a) is deprecated since NumPy v1.16, use a.item() instead\n",
      "  X_train.append([1,np.asscalar(temp_e[x]),0,0])\n",
      "C:\\Users\\WILLCA~1\\AppData\\Local\\Temp/ipykernel_18200/3989287745.py:9: DeprecationWarning: np.asscalar(a) is deprecated since NumPy v1.16, use a.item() instead\n",
      "  X_train.append([1,np.asscalar(temp_e[x]),1,np.asscalar(temp_e[x])])\n"
     ]
    },
    {
     "data": {
      "text/html": [
       "<table class=\"simpletable\">\n",
       "<caption>OLS Regression Results</caption>\n",
       "<tr>\n",
       "  <th>Dep. Variable:</th>            <td>y</td>        <th>  R-squared:         </th> <td>   0.280</td>\n",
       "</tr>\n",
       "<tr>\n",
       "  <th>Model:</th>                   <td>OLS</td>       <th>  Adj. R-squared:    </th> <td>   0.274</td>\n",
       "</tr>\n",
       "<tr>\n",
       "  <th>Method:</th>             <td>Least Squares</td>  <th>  F-statistic:       </th> <td>   51.30</td>\n",
       "</tr>\n",
       "<tr>\n",
       "  <th>Date:</th>             <td>Thu, 18 Nov 2021</td> <th>  Prob (F-statistic):</th> <td>4.94e-28</td>\n",
       "</tr>\n",
       "<tr>\n",
       "  <th>Time:</th>                 <td>10:53:46</td>     <th>  Log-Likelihood:    </th> <td> -2953.7</td>\n",
       "</tr>\n",
       "<tr>\n",
       "  <th>No. Observations:</th>      <td>   400</td>      <th>  AIC:               </th> <td>   5915.</td>\n",
       "</tr>\n",
       "<tr>\n",
       "  <th>Df Residuals:</th>          <td>   396</td>      <th>  BIC:               </th> <td>   5931.</td>\n",
       "</tr>\n",
       "<tr>\n",
       "  <th>Df Model:</th>              <td>     3</td>      <th>                     </th>     <td> </td>   \n",
       "</tr>\n",
       "<tr>\n",
       "  <th>Covariance Type:</th>      <td>nonrobust</td>    <th>                     </th>     <td> </td>   \n",
       "</tr>\n",
       "</table>\n",
       "<table class=\"simpletable\">\n",
       "<tr>\n",
       "    <td></td>       <th>coef</th>     <th>std err</th>      <th>t</th>      <th>P>|t|</th>  <th>[0.025</th>    <th>0.975]</th>  \n",
       "</tr>\n",
       "<tr>\n",
       "  <th>const</th> <td>  200.6232</td> <td>   33.698</td> <td>    5.953</td> <td> 0.000</td> <td>  134.373</td> <td>  266.873</td>\n",
       "</tr>\n",
       "<tr>\n",
       "  <th>x1</th>    <td>    6.2182</td> <td>    0.592</td> <td>   10.502</td> <td> 0.000</td> <td>    5.054</td> <td>    7.382</td>\n",
       "</tr>\n",
       "<tr>\n",
       "  <th>x2</th>    <td>  476.6758</td> <td>  104.351</td> <td>    4.568</td> <td> 0.000</td> <td>  271.524</td> <td>  681.827</td>\n",
       "</tr>\n",
       "<tr>\n",
       "  <th>x3</th>    <td>   -1.9992</td> <td>    1.731</td> <td>   -1.155</td> <td> 0.249</td> <td>   -5.403</td> <td>    1.404</td>\n",
       "</tr>\n",
       "</table>\n",
       "<table class=\"simpletable\">\n",
       "<tr>\n",
       "  <th>Omnibus:</th>       <td>107.788</td> <th>  Durbin-Watson:     </th> <td>   1.952</td>\n",
       "</tr>\n",
       "<tr>\n",
       "  <th>Prob(Omnibus):</th> <td> 0.000</td>  <th>  Jarque-Bera (JB):  </th> <td>  22.158</td>\n",
       "</tr>\n",
       "<tr>\n",
       "  <th>Skew:</th>          <td> 0.228</td>  <th>  Prob(JB):          </th> <td>1.54e-05</td>\n",
       "</tr>\n",
       "<tr>\n",
       "  <th>Kurtosis:</th>      <td> 1.941</td>  <th>  Cond. No.          </th> <td>    309.</td>\n",
       "</tr>\n",
       "</table><br/><br/>Notes:<br/>[1] Standard Errors assume that the covariance matrix of the errors is correctly specified."
      ],
      "text/plain": [
       "<class 'statsmodels.iolib.summary.Summary'>\n",
       "\"\"\"\n",
       "                            OLS Regression Results                            \n",
       "==============================================================================\n",
       "Dep. Variable:                      y   R-squared:                       0.280\n",
       "Model:                            OLS   Adj. R-squared:                  0.274\n",
       "Method:                 Least Squares   F-statistic:                     51.30\n",
       "Date:                Thu, 18 Nov 2021   Prob (F-statistic):           4.94e-28\n",
       "Time:                        10:53:46   Log-Likelihood:                -2953.7\n",
       "No. Observations:                 400   AIC:                             5915.\n",
       "Df Residuals:                     396   BIC:                             5931.\n",
       "Df Model:                           3                                         \n",
       "Covariance Type:            nonrobust                                         \n",
       "==============================================================================\n",
       "                 coef    std err          t      P>|t|      [0.025      0.975]\n",
       "------------------------------------------------------------------------------\n",
       "const        200.6232     33.698      5.953      0.000     134.373     266.873\n",
       "x1             6.2182      0.592     10.502      0.000       5.054       7.382\n",
       "x2           476.6758    104.351      4.568      0.000     271.524     681.827\n",
       "x3            -1.9992      1.731     -1.155      0.249      -5.403       1.404\n",
       "==============================================================================\n",
       "Omnibus:                      107.788   Durbin-Watson:                   1.952\n",
       "Prob(Omnibus):                  0.000   Jarque-Bera (JB):               22.158\n",
       "Skew:                           0.228   Prob(JB):                     1.54e-05\n",
       "Kurtosis:                       1.941   Cond. No.                         309.\n",
       "==============================================================================\n",
       "\n",
       "Notes:\n",
       "[1] Standard Errors assume that the covariance matrix of the errors is correctly specified.\n",
       "\"\"\""
      ]
     },
     "execution_count": 17,
     "metadata": {},
     "output_type": "execute_result"
    }
   ],
   "source": [
    "# Interaction Term Studnet*Income\n",
    "X_train = []\n",
    "temp = dataset['Student'].values.reshape(-1,1);\n",
    "temp_e = dataset['Income'].values.reshape(-1,1);\n",
    "for x in range(0,len(temp)):\n",
    "    if temp[x]=='No':\n",
    "        X_train.append([1,np.asscalar(temp_e[x]),0,0])\n",
    "    if temp[x]=='Yes':\n",
    "        X_train.append([1,np.asscalar(temp_e[x]),1,np.asscalar(temp_e[x])])\n",
    "\n",
    "y_train   = dataset['Balance'].values.reshape(-1,1)\n",
    "\n",
    "model = sm.OLS(y_train,X_train).fit()\n",
    "model.summary() "
   ]
  },
  {
   "cell_type": "code",
   "execution_count": 18,
   "metadata": {},
   "outputs": [
    {
     "data": {
      "text/plain": [
       "Text(0, 0.5, 'fitted')"
      ]
     },
     "execution_count": 18,
     "metadata": {},
     "output_type": "execute_result"
    },
    {
     "data": {
      "image/png": "[encoded data removed]",
      "text/plain": [
       "<Figure size 432x288 with 1 Axes>"
      ]
     },
     "metadata": {
      "needs_background": "light"
     },
     "output_type": "display_data"
    }
   ],
   "source": [
    "# fitted vs training\n",
    "y_pred = model.predict(X_train)\n",
    "\n",
    "plt.plot(y_train,y_pred,'*')\n",
    "plt.plot(y_train,y_train)\n",
    "plt.xlabel('training')\n",
    "plt.ylabel('fitted')"
   ]
  },
  {
   "cell_type": "code",
   "execution_count": 19,
   "metadata": {},
   "outputs": [
    {
     "data": {
      "text/plain": [
       "Text(0, 0.5, 'err')"
      ]
     },
     "execution_count": 19,
     "metadata": {},
     "output_type": "execute_result"
    },
    {
     "data": {
      "image/png": "[encoded data removed]",
      "text/plain": [
       "<Figure size 432x288 with 1 Axes>"
      ]
     },
     "metadata": {
      "needs_background": "light"
     },
     "output_type": "display_data"
    }
   ],
   "source": [
    "# err vs fitted\n",
    "err = []\n",
    "X   = []\n",
    "for x in range(0,len(y_train)):\n",
    "        err.append(y_pred[x]-y_train[x])\n",
    "        X.append(y_pred[x])\n",
    "        \n",
    "plt.plot(X,err,'*')\n",
    "plt.xlabel('fitted')\n",
    "plt.ylabel('err')"
   ]
  },
  {
   "cell_type": "code",
   "execution_count": 20,
   "metadata": {},
   "outputs": [],
   "source": [
    "# Change the path\n",
    "dataset = pd.read_csv('Advertising.csv')"
   ]
  },
  {
   "cell_type": "code",
   "execution_count": 21,
   "metadata": {},
   "outputs": [
    {
     "data": {
      "text/html": [
       "<div>\n",
       "<style scoped>\n",
       "    .dataframe tbody tr th:only-of-type {\n",
       "        vertical-align: middle;\n",
       "    }\n",
       "\n",
       "    .dataframe tbody tr th {\n",
       "        vertical-align: top;\n",
       "    }\n",
       "\n",
       "    .dataframe thead th {\n",
       "        text-align: right;\n",
       "    }\n",
       "</style>\n",
       "<table border=\"1\" class=\"dataframe\">\n",
       "  <thead>\n",
       "    <tr style=\"text-align: right;\">\n",
       "      <th></th>\n",
       "      <th>Unnamed: 0</th>\n",
       "      <th>TV</th>\n",
       "      <th>radio</th>\n",
       "      <th>newspaper</th>\n",
       "      <th>sales</th>\n",
       "    </tr>\n",
       "  </thead>\n",
       "  <tbody>\n",
       "    <tr>\n",
       "      <th>0</th>\n",
       "      <td>1</td>\n",
       "      <td>230.1</td>\n",
       "      <td>37.8</td>\n",
       "      <td>69.2</td>\n",
       "      <td>22.1</td>\n",
       "    </tr>\n",
       "    <tr>\n",
       "      <th>1</th>\n",
       "      <td>2</td>\n",
       "      <td>44.5</td>\n",
       "      <td>39.3</td>\n",
       "      <td>45.1</td>\n",
       "      <td>10.4</td>\n",
       "    </tr>\n",
       "    <tr>\n",
       "      <th>2</th>\n",
       "      <td>3</td>\n",
       "      <td>17.2</td>\n",
       "      <td>45.9</td>\n",
       "      <td>69.3</td>\n",
       "      <td>9.3</td>\n",
       "    </tr>\n",
       "    <tr>\n",
       "      <th>3</th>\n",
       "      <td>4</td>\n",
       "      <td>151.5</td>\n",
       "      <td>41.3</td>\n",
       "      <td>58.5</td>\n",
       "      <td>18.5</td>\n",
       "    </tr>\n",
       "    <tr>\n",
       "      <th>4</th>\n",
       "      <td>5</td>\n",
       "      <td>180.8</td>\n",
       "      <td>10.8</td>\n",
       "      <td>58.4</td>\n",
       "      <td>12.9</td>\n",
       "    </tr>\n",
       "    <tr>\n",
       "      <th>...</th>\n",
       "      <td>...</td>\n",
       "      <td>...</td>\n",
       "      <td>...</td>\n",
       "      <td>...</td>\n",
       "      <td>...</td>\n",
       "    </tr>\n",
       "    <tr>\n",
       "      <th>195</th>\n",
       "      <td>196</td>\n",
       "      <td>38.2</td>\n",
       "      <td>3.7</td>\n",
       "      <td>13.8</td>\n",
       "      <td>7.6</td>\n",
       "    </tr>\n",
       "    <tr>\n",
       "      <th>196</th>\n",
       "      <td>197</td>\n",
       "      <td>94.2</td>\n",
       "      <td>4.9</td>\n",
       "      <td>8.1</td>\n",
       "      <td>9.7</td>\n",
       "    </tr>\n",
       "    <tr>\n",
       "      <th>197</th>\n",
       "      <td>198</td>\n",
       "      <td>177.0</td>\n",
       "      <td>9.3</td>\n",
       "      <td>6.4</td>\n",
       "      <td>12.8</td>\n",
       "    </tr>\n",
       "    <tr>\n",
       "      <th>198</th>\n",
       "      <td>199</td>\n",
       "      <td>283.6</td>\n",
       "      <td>42.0</td>\n",
       "      <td>66.2</td>\n",
       "      <td>25.5</td>\n",
       "    </tr>\n",
       "    <tr>\n",
       "      <th>199</th>\n",
       "      <td>200</td>\n",
       "      <td>232.1</td>\n",
       "      <td>8.6</td>\n",
       "      <td>8.7</td>\n",
       "      <td>13.4</td>\n",
       "    </tr>\n",
       "  </tbody>\n",
       "</table>\n",
       "<p>200 rows × 5 columns</p>\n",
       "</div>"
      ],
      "text/plain": [
       "     Unnamed: 0     TV  radio  newspaper  sales\n",
       "0             1  230.1   37.8       69.2   22.1\n",
       "1             2   44.5   39.3       45.1   10.4\n",
       "2             3   17.2   45.9       69.3    9.3\n",
       "3             4  151.5   41.3       58.5   18.5\n",
       "4             5  180.8   10.8       58.4   12.9\n",
       "..          ...    ...    ...        ...    ...\n",
       "195         196   38.2    3.7       13.8    7.6\n",
       "196         197   94.2    4.9        8.1    9.7\n",
       "197         198  177.0    9.3        6.4   12.8\n",
       "198         199  283.6   42.0       66.2   25.5\n",
       "199         200  232.1    8.6        8.7   13.4\n",
       "\n",
       "[200 rows x 5 columns]"
      ]
     },
     "execution_count": 21,
     "metadata": {},
     "output_type": "execute_result"
    }
   ],
   "source": [
    "dataset"
   ]
  },
  {
   "cell_type": "code",
   "execution_count": 22,
   "metadata": {},
   "outputs": [
    {
     "data": {
      "text/html": [
       "<table class=\"simpletable\">\n",
       "<caption>OLS Regression Results</caption>\n",
       "<tr>\n",
       "  <th>Dep. Variable:</th>            <td>y</td>        <th>  R-squared:         </th> <td>   0.897</td>\n",
       "</tr>\n",
       "<tr>\n",
       "  <th>Model:</th>                   <td>OLS</td>       <th>  Adj. R-squared:    </th> <td>   0.896</td>\n",
       "</tr>\n",
       "<tr>\n",
       "  <th>Method:</th>             <td>Least Squares</td>  <th>  F-statistic:       </th> <td>   859.6</td>\n",
       "</tr>\n",
       "<tr>\n",
       "  <th>Date:</th>             <td>Thu, 18 Nov 2021</td> <th>  Prob (F-statistic):</th> <td>4.83e-98</td>\n",
       "</tr>\n",
       "<tr>\n",
       "  <th>Time:</th>                 <td>10:53:46</td>     <th>  Log-Likelihood:    </th> <td> -386.20</td>\n",
       "</tr>\n",
       "<tr>\n",
       "  <th>No. Observations:</th>      <td>   200</td>      <th>  AIC:               </th> <td>   778.4</td>\n",
       "</tr>\n",
       "<tr>\n",
       "  <th>Df Residuals:</th>          <td>   197</td>      <th>  BIC:               </th> <td>   788.3</td>\n",
       "</tr>\n",
       "<tr>\n",
       "  <th>Df Model:</th>              <td>     2</td>      <th>                     </th>     <td> </td>   \n",
       "</tr>\n",
       "<tr>\n",
       "  <th>Covariance Type:</th>      <td>nonrobust</td>    <th>                     </th>     <td> </td>   \n",
       "</tr>\n",
       "</table>\n",
       "<table class=\"simpletable\">\n",
       "<tr>\n",
       "    <td></td>       <th>coef</th>     <th>std err</th>      <th>t</th>      <th>P>|t|</th>  <th>[0.025</th>    <th>0.975]</th>  \n",
       "</tr>\n",
       "<tr>\n",
       "  <th>const</th> <td>    2.9211</td> <td>    0.294</td> <td>    9.919</td> <td> 0.000</td> <td>    2.340</td> <td>    3.502</td>\n",
       "</tr>\n",
       "<tr>\n",
       "  <th>x1</th>    <td>    0.0458</td> <td>    0.001</td> <td>   32.909</td> <td> 0.000</td> <td>    0.043</td> <td>    0.048</td>\n",
       "</tr>\n",
       "<tr>\n",
       "  <th>x2</th>    <td>    0.1880</td> <td>    0.008</td> <td>   23.382</td> <td> 0.000</td> <td>    0.172</td> <td>    0.204</td>\n",
       "</tr>\n",
       "</table>\n",
       "<table class=\"simpletable\">\n",
       "<tr>\n",
       "  <th>Omnibus:</th>       <td>60.022</td> <th>  Durbin-Watson:     </th> <td>   2.081</td>\n",
       "</tr>\n",
       "<tr>\n",
       "  <th>Prob(Omnibus):</th> <td> 0.000</td> <th>  Jarque-Bera (JB):  </th> <td> 148.679</td>\n",
       "</tr>\n",
       "<tr>\n",
       "  <th>Skew:</th>          <td>-1.323</td> <th>  Prob(JB):          </th> <td>5.19e-33</td>\n",
       "</tr>\n",
       "<tr>\n",
       "  <th>Kurtosis:</th>      <td> 6.292</td> <th>  Cond. No.          </th> <td>    425.</td>\n",
       "</tr>\n",
       "</table><br/><br/>Notes:<br/>[1] Standard Errors assume that the covariance matrix of the errors is correctly specified."
      ],
      "text/plain": [
       "<class 'statsmodels.iolib.summary.Summary'>\n",
       "\"\"\"\n",
       "                            OLS Regression Results                            \n",
       "==============================================================================\n",
       "Dep. Variable:                      y   R-squared:                       0.897\n",
       "Model:                            OLS   Adj. R-squared:                  0.896\n",
       "Method:                 Least Squares   F-statistic:                     859.6\n",
       "Date:                Thu, 18 Nov 2021   Prob (F-statistic):           4.83e-98\n",
       "Time:                        10:53:46   Log-Likelihood:                -386.20\n",
       "No. Observations:                 200   AIC:                             778.4\n",
       "Df Residuals:                     197   BIC:                             788.3\n",
       "Df Model:                           2                                         \n",
       "Covariance Type:            nonrobust                                         \n",
       "==============================================================================\n",
       "                 coef    std err          t      P>|t|      [0.025      0.975]\n",
       "------------------------------------------------------------------------------\n",
       "const          2.9211      0.294      9.919      0.000       2.340       3.502\n",
       "x1             0.0458      0.001     32.909      0.000       0.043       0.048\n",
       "x2             0.1880      0.008     23.382      0.000       0.172       0.204\n",
       "==============================================================================\n",
       "Omnibus:                       60.022   Durbin-Watson:                   2.081\n",
       "Prob(Omnibus):                  0.000   Jarque-Bera (JB):              148.679\n",
       "Skew:                          -1.323   Prob(JB):                     5.19e-33\n",
       "Kurtosis:                       6.292   Cond. No.                         425.\n",
       "==============================================================================\n",
       "\n",
       "Notes:\n",
       "[1] Standard Errors assume that the covariance matrix of the errors is correctly specified.\n",
       "\"\"\""
      ]
     },
     "execution_count": 22,
     "metadata": {},
     "output_type": "execute_result"
    }
   ],
   "source": [
    "# Note that sklearn does not provide summary for the linear regression fit; we use another package here!\n",
    "# Another Solution\n",
    "import statsmodels.api as sm\n",
    "X_train = dataset[['TV', 'radio']].values\n",
    "y_train   = dataset['sales'].values.reshape(-1,1)\n",
    "X = sm.add_constant(X_train)\n",
    "model = sm.OLS(y_train,X).fit()\n",
    "model.summary()  "
   ]
  },
  {
   "cell_type": "code",
   "execution_count": 23,
   "metadata": {},
   "outputs": [
    {
     "data": {
      "text/plain": [
       "Text(0, 0.5, 'err')"
      ]
     },
     "execution_count": 23,
     "metadata": {},
     "output_type": "execute_result"
    },
    {
     "data": {
      "image/png": "[encoded data removed]",
      "text/plain": [
       "<Figure size 432x288 with 1 Axes>"
      ]
     },
     "metadata": {
      "needs_background": "light"
     },
     "output_type": "display_data"
    }
   ],
   "source": [
    "y_pred = model.predict(X)\n",
    "# err vs fitted\n",
    "err = []\n",
    "X   = []\n",
    "for x in range(0,len(y_train)):\n",
    "        err.append(y_pred[x]-y_train[x])\n",
    "        X.append(y_pred[x])\n",
    "        \n",
    "plt.plot(X,err,'*')\n",
    "plt.xlabel('fitted')\n",
    "plt.ylabel('err')"
   ]
  },
  {
   "cell_type": "code",
   "execution_count": 24,
   "metadata": {},
   "outputs": [
    {
     "name": "stderr",
     "output_type": "stream",
     "text": [
      "C:\\Users\\WILLCA~1\\AppData\\Local\\Temp/ipykernel_18200/2060096698.py:6: DeprecationWarning: np.asscalar(a) is deprecated since NumPy v1.16, use a.item() instead\n",
      "  X_train.append([1,np.asscalar(temp[x]),np.asscalar(temp_e[x]), np.asscalar(temp[x])*np.asscalar(temp_e[x])] )\n"
     ]
    },
    {
     "data": {
      "text/html": [
       "<table class=\"simpletable\">\n",
       "<caption>OLS Regression Results</caption>\n",
       "<tr>\n",
       "  <th>Dep. Variable:</th>            <td>y</td>        <th>  R-squared:         </th> <td>   0.968</td> \n",
       "</tr>\n",
       "<tr>\n",
       "  <th>Model:</th>                   <td>OLS</td>       <th>  Adj. R-squared:    </th> <td>   0.967</td> \n",
       "</tr>\n",
       "<tr>\n",
       "  <th>Method:</th>             <td>Least Squares</td>  <th>  F-statistic:       </th> <td>   1963.</td> \n",
       "</tr>\n",
       "<tr>\n",
       "  <th>Date:</th>             <td>Thu, 18 Nov 2021</td> <th>  Prob (F-statistic):</th> <td>6.68e-146</td>\n",
       "</tr>\n",
       "<tr>\n",
       "  <th>Time:</th>                 <td>10:53:47</td>     <th>  Log-Likelihood:    </th> <td> -270.14</td> \n",
       "</tr>\n",
       "<tr>\n",
       "  <th>No. Observations:</th>      <td>   200</td>      <th>  AIC:               </th> <td>   548.3</td> \n",
       "</tr>\n",
       "<tr>\n",
       "  <th>Df Residuals:</th>          <td>   196</td>      <th>  BIC:               </th> <td>   561.5</td> \n",
       "</tr>\n",
       "<tr>\n",
       "  <th>Df Model:</th>              <td>     3</td>      <th>                     </th>     <td> </td>    \n",
       "</tr>\n",
       "<tr>\n",
       "  <th>Covariance Type:</th>      <td>nonrobust</td>    <th>                     </th>     <td> </td>    \n",
       "</tr>\n",
       "</table>\n",
       "<table class=\"simpletable\">\n",
       "<tr>\n",
       "    <td></td>       <th>coef</th>     <th>std err</th>      <th>t</th>      <th>P>|t|</th>  <th>[0.025</th>    <th>0.975]</th>  \n",
       "</tr>\n",
       "<tr>\n",
       "  <th>const</th> <td>    6.7502</td> <td>    0.248</td> <td>   27.233</td> <td> 0.000</td> <td>    6.261</td> <td>    7.239</td>\n",
       "</tr>\n",
       "<tr>\n",
       "  <th>x1</th>    <td>    0.0191</td> <td>    0.002</td> <td>   12.699</td> <td> 0.000</td> <td>    0.016</td> <td>    0.022</td>\n",
       "</tr>\n",
       "<tr>\n",
       "  <th>x2</th>    <td>    0.0289</td> <td>    0.009</td> <td>    3.241</td> <td> 0.001</td> <td>    0.011</td> <td>    0.046</td>\n",
       "</tr>\n",
       "<tr>\n",
       "  <th>x3</th>    <td>    0.0011</td> <td> 5.24e-05</td> <td>   20.727</td> <td> 0.000</td> <td>    0.001</td> <td>    0.001</td>\n",
       "</tr>\n",
       "</table>\n",
       "<table class=\"simpletable\">\n",
       "<tr>\n",
       "  <th>Omnibus:</th>       <td>128.132</td> <th>  Durbin-Watson:     </th> <td>   2.224</td> \n",
       "</tr>\n",
       "<tr>\n",
       "  <th>Prob(Omnibus):</th> <td> 0.000</td>  <th>  Jarque-Bera (JB):  </th> <td>1183.719</td> \n",
       "</tr>\n",
       "<tr>\n",
       "  <th>Skew:</th>          <td>-2.323</td>  <th>  Prob(JB):          </th> <td>9.09e-258</td>\n",
       "</tr>\n",
       "<tr>\n",
       "  <th>Kurtosis:</th>      <td>13.975</td>  <th>  Cond. No.          </th> <td>1.80e+04</td> \n",
       "</tr>\n",
       "</table><br/><br/>Notes:<br/>[1] Standard Errors assume that the covariance matrix of the errors is correctly specified.<br/>[2] The condition number is large, 1.8e+04. This might indicate that there are<br/>strong multicollinearity or other numerical problems."
      ],
      "text/plain": [
       "<class 'statsmodels.iolib.summary.Summary'>\n",
       "\"\"\"\n",
       "                            OLS Regression Results                            \n",
       "==============================================================================\n",
       "Dep. Variable:                      y   R-squared:                       0.968\n",
       "Model:                            OLS   Adj. R-squared:                  0.967\n",
       "Method:                 Least Squares   F-statistic:                     1963.\n",
       "Date:                Thu, 18 Nov 2021   Prob (F-statistic):          6.68e-146\n",
       "Time:                        10:53:47   Log-Likelihood:                -270.14\n",
       "No. Observations:                 200   AIC:                             548.3\n",
       "Df Residuals:                     196   BIC:                             561.5\n",
       "Df Model:                           3                                         \n",
       "Covariance Type:            nonrobust                                         \n",
       "==============================================================================\n",
       "                 coef    std err          t      P>|t|      [0.025      0.975]\n",
       "------------------------------------------------------------------------------\n",
       "const          6.7502      0.248     27.233      0.000       6.261       7.239\n",
       "x1             0.0191      0.002     12.699      0.000       0.016       0.022\n",
       "x2             0.0289      0.009      3.241      0.001       0.011       0.046\n",
       "x3             0.0011   5.24e-05     20.727      0.000       0.001       0.001\n",
       "==============================================================================\n",
       "Omnibus:                      128.132   Durbin-Watson:                   2.224\n",
       "Prob(Omnibus):                  0.000   Jarque-Bera (JB):             1183.719\n",
       "Skew:                          -2.323   Prob(JB):                    9.09e-258\n",
       "Kurtosis:                      13.975   Cond. No.                     1.80e+04\n",
       "==============================================================================\n",
       "\n",
       "Notes:\n",
       "[1] Standard Errors assume that the covariance matrix of the errors is correctly specified.\n",
       "[2] The condition number is large, 1.8e+04. This might indicate that there are\n",
       "strong multicollinearity or other numerical problems.\n",
       "\"\"\""
      ]
     },
     "execution_count": 24,
     "metadata": {},
     "output_type": "execute_result"
    }
   ],
   "source": [
    "# With interaction term, TV x Radio\n",
    "X_train = []\n",
    "temp   = dataset['TV'].values.reshape(-1,1);\n",
    "temp_e = dataset['radio'].values.reshape(-1,1);\n",
    "for x in range(0,len(temp)):\n",
    "    X_train.append([1,np.asscalar(temp[x]),np.asscalar(temp_e[x]), np.asscalar(temp[x])*np.asscalar(temp_e[x])] )\n",
    "\n",
    "y_train   = dataset['sales'].values.reshape(-1,1)\n",
    "model = sm.OLS(y_train,X_train).fit()\n",
    "model.summary() "
   ]
  },
  {
   "cell_type": "code",
   "execution_count": 25,
   "metadata": {},
   "outputs": [
    {
     "data": {
      "text/plain": [
       "Text(0, 0.5, 'err')"
      ]
     },
     "execution_count": 25,
     "metadata": {},
     "output_type": "execute_result"
    },
    {
     "data": {
      "image/png": "[encoded data removed]",
      "text/plain": [
       "<Figure size 432x288 with 1 Axes>"
      ]
     },
     "metadata": {
      "needs_background": "light"
     },
     "output_type": "display_data"
    }
   ],
   "source": [
    "y_pred = model.predict(X_train)\n",
    "# err vs fitted\n",
    "err = []\n",
    "X   = []\n",
    "for x in range(0,len(y_train)):\n",
    "        err.append(y_pred[x]-y_train[x])\n",
    "        X.append(y_pred[x])\n",
    "        \n",
    "plt.plot(X,err,'*')\n",
    "plt.xlabel('fitted')\n",
    "plt.ylabel('err')"
   ]
  },
  {
   "cell_type": "code",
   "execution_count": 26,
   "metadata": {},
   "outputs": [
    {
     "name": "stderr",
     "output_type": "stream",
     "text": [
      "C:\\Users\\WILLCA~1\\AppData\\Local\\Temp/ipykernel_18200/2760429618.py:6: DeprecationWarning: np.asscalar(a) is deprecated since NumPy v1.16, use a.item() instead\n",
      "  X_train.append([1,np.asscalar(temp[x]),np.asscalar(temp[x]), np.asscalar(temp[x])*np.asscalar(temp_e[x])] )\n"
     ]
    },
    {
     "data": {
      "text/html": [
       "<table class=\"simpletable\">\n",
       "<caption>OLS Regression Results</caption>\n",
       "<tr>\n",
       "  <th>Dep. Variable:</th>            <td>y</td>        <th>  R-squared:         </th> <td>   0.966</td> \n",
       "</tr>\n",
       "<tr>\n",
       "  <th>Model:</th>                   <td>OLS</td>       <th>  Adj. R-squared:    </th> <td>   0.966</td> \n",
       "</tr>\n",
       "<tr>\n",
       "  <th>Method:</th>             <td>Least Squares</td>  <th>  F-statistic:       </th> <td>   2804.</td> \n",
       "</tr>\n",
       "<tr>\n",
       "  <th>Date:</th>             <td>Thu, 18 Nov 2021</td> <th>  Prob (F-statistic):</th> <td>1.86e-145</td>\n",
       "</tr>\n",
       "<tr>\n",
       "  <th>Time:</th>                 <td>10:53:47</td>     <th>  Log-Likelihood:    </th> <td> -275.36</td> \n",
       "</tr>\n",
       "<tr>\n",
       "  <th>No. Observations:</th>      <td>   200</td>      <th>  AIC:               </th> <td>   556.7</td> \n",
       "</tr>\n",
       "<tr>\n",
       "  <th>Df Residuals:</th>          <td>   197</td>      <th>  BIC:               </th> <td>   566.6</td> \n",
       "</tr>\n",
       "<tr>\n",
       "  <th>Df Model:</th>              <td>     2</td>      <th>                     </th>     <td> </td>    \n",
       "</tr>\n",
       "<tr>\n",
       "  <th>Covariance Type:</th>      <td>nonrobust</td>    <th>                     </th>     <td> </td>    \n",
       "</tr>\n",
       "</table>\n",
       "<table class=\"simpletable\">\n",
       "<tr>\n",
       "    <td></td>       <th>coef</th>     <th>std err</th>      <th>t</th>      <th>P>|t|</th>  <th>[0.025</th>    <th>0.975]</th>  \n",
       "</tr>\n",
       "<tr>\n",
       "  <th>const</th> <td>    7.4284</td> <td>    0.136</td> <td>   54.619</td> <td> 0.000</td> <td>    7.160</td> <td>    7.697</td>\n",
       "</tr>\n",
       "<tr>\n",
       "  <th>x1</th>    <td>    0.0078</td> <td>    0.001</td> <td>   14.636</td> <td> 0.000</td> <td>    0.007</td> <td>    0.009</td>\n",
       "</tr>\n",
       "<tr>\n",
       "  <th>x2</th>    <td>    0.0078</td> <td>    0.001</td> <td>   14.636</td> <td> 0.000</td> <td>    0.007</td> <td>    0.009</td>\n",
       "</tr>\n",
       "<tr>\n",
       "  <th>x3</th>    <td>    0.0012</td> <td> 2.72e-05</td> <td>   45.344</td> <td> 0.000</td> <td>    0.001</td> <td>    0.001</td>\n",
       "</tr>\n",
       "</table>\n",
       "<table class=\"simpletable\">\n",
       "<tr>\n",
       "  <th>Omnibus:</th>       <td>107.842</td> <th>  Durbin-Watson:     </th> <td>   2.199</td> \n",
       "</tr>\n",
       "<tr>\n",
       "  <th>Prob(Omnibus):</th> <td> 0.000</td>  <th>  Jarque-Bera (JB):  </th> <td> 681.859</td> \n",
       "</tr>\n",
       "<tr>\n",
       "  <th>Skew:</th>          <td>-2.000</td>  <th>  Prob(JB):          </th> <td>8.63e-149</td>\n",
       "</tr>\n",
       "<tr>\n",
       "  <th>Kurtosis:</th>      <td>11.113</td>  <th>  Cond. No.          </th> <td>8.15e+17</td> \n",
       "</tr>\n",
       "</table><br/><br/>Notes:<br/>[1] Standard Errors assume that the covariance matrix of the errors is correctly specified.<br/>[2] The smallest eigenvalue is 7.07e-27. This might indicate that there are<br/>strong multicollinearity problems or that the design matrix is singular."
      ],
      "text/plain": [
       "<class 'statsmodels.iolib.summary.Summary'>\n",
       "\"\"\"\n",
       "                            OLS Regression Results                            \n",
       "==============================================================================\n",
       "Dep. Variable:                      y   R-squared:                       0.966\n",
       "Model:                            OLS   Adj. R-squared:                  0.966\n",
       "Method:                 Least Squares   F-statistic:                     2804.\n",
       "Date:                Thu, 18 Nov 2021   Prob (F-statistic):          1.86e-145\n",
       "Time:                        10:53:47   Log-Likelihood:                -275.36\n",
       "No. Observations:                 200   AIC:                             556.7\n",
       "Df Residuals:                     197   BIC:                             566.6\n",
       "Df Model:                           2                                         \n",
       "Covariance Type:            nonrobust                                         \n",
       "==============================================================================\n",
       "                 coef    std err          t      P>|t|      [0.025      0.975]\n",
       "------------------------------------------------------------------------------\n",
       "const          7.4284      0.136     54.619      0.000       7.160       7.697\n",
       "x1             0.0078      0.001     14.636      0.000       0.007       0.009\n",
       "x2             0.0078      0.001     14.636      0.000       0.007       0.009\n",
       "x3             0.0012   2.72e-05     45.344      0.000       0.001       0.001\n",
       "==============================================================================\n",
       "Omnibus:                      107.842   Durbin-Watson:                   2.199\n",
       "Prob(Omnibus):                  0.000   Jarque-Bera (JB):              681.859\n",
       "Skew:                          -2.000   Prob(JB):                    8.63e-149\n",
       "Kurtosis:                      11.113   Cond. No.                     8.15e+17\n",
       "==============================================================================\n",
       "\n",
       "Notes:\n",
       "[1] Standard Errors assume that the covariance matrix of the errors is correctly specified.\n",
       "[2] The smallest eigenvalue is 7.07e-27. This might indicate that there are\n",
       "strong multicollinearity problems or that the design matrix is singular.\n",
       "\"\"\""
      ]
     },
     "execution_count": 26,
     "metadata": {},
     "output_type": "execute_result"
    }
   ],
   "source": [
    "# Colinearity issue\n",
    "X_train = []\n",
    "temp   = dataset['TV'].values.reshape(-1,1);\n",
    "temp_e = dataset['radio'].values.reshape(-1,1);\n",
    "for x in range(0,len(temp)):\n",
    "    X_train.append([1,np.asscalar(temp[x]),np.asscalar(temp[x]), np.asscalar(temp[x])*np.asscalar(temp_e[x])] )\n",
    "\n",
    "y_train   = dataset['sales'].values.reshape(-1,1)\n",
    "model = sm.OLS(y_train,X_train).fit()\n",
    "model.summary() "
   ]
  },
  {
   "cell_type": "code",
   "execution_count": 27,
   "metadata": {},
   "outputs": [
    {
     "data": {
      "text/plain": [
       "[<matplotlib.lines.Line2D at 0x1d008b1a6a0>]"
      ]
     },
     "execution_count": 27,
     "metadata": {},
     "output_type": "execute_result"
    },
    {
     "data": {
      "image/png": "[encoded data removed]",
      "text/plain": [
       "<Figure size 432x288 with 1 Axes>"
      ]
     },
     "metadata": {
      "needs_background": "light"
     },
     "output_type": "display_data"
    }
   ],
   "source": [
    "err = []\n",
    "X   = []\n",
    "for x in range(0,len(y_train)):\n",
    "        err.append(y_pred[x]-y_train[x])\n",
    "        X.append(y_pred[x])       \n",
    "plt.plot(X,err,'*')"
   ]
  },
  {
   "cell_type": "code",
   "execution_count": 29,
   "metadata": {},
   "outputs": [],
   "source": [
    "# Change the path\n",
    "dataset = pd.read_csv('Auto.csv')"
   ]
  },
  {
   "cell_type": "code",
   "execution_count": 30,
   "metadata": {},
   "outputs": [
    {
     "data": {
      "text/html": [
       "<div>\n",
       "<style scoped>\n",
       "    .dataframe tbody tr th:only-of-type {\n",
       "        vertical-align: middle;\n",
       "    }\n",
       "\n",
       "    .dataframe tbody tr th {\n",
       "        vertical-align: top;\n",
       "    }\n",
       "\n",
       "    .dataframe thead th {\n",
       "        text-align: right;\n",
       "    }\n",
       "</style>\n",
       "<table border=\"1\" class=\"dataframe\">\n",
       "  <thead>\n",
       "    <tr style=\"text-align: right;\">\n",
       "      <th></th>\n",
       "      <th>mpg</th>\n",
       "      <th>cylinders</th>\n",
       "      <th>displacement</th>\n",
       "      <th>horsepower</th>\n",
       "      <th>weight</th>\n",
       "      <th>acceleration</th>\n",
       "      <th>year</th>\n",
       "      <th>origin</th>\n",
       "      <th>name</th>\n",
       "    </tr>\n",
       "  </thead>\n",
       "  <tbody>\n",
       "    <tr>\n",
       "      <th>0</th>\n",
       "      <td>18.0</td>\n",
       "      <td>8</td>\n",
       "      <td>307.0</td>\n",
       "      <td>130</td>\n",
       "      <td>3504</td>\n",
       "      <td>12.0</td>\n",
       "      <td>70</td>\n",
       "      <td>1</td>\n",
       "      <td>chevrolet chevelle malibu</td>\n",
       "    </tr>\n",
       "    <tr>\n",
       "      <th>1</th>\n",
       "      <td>15.0</td>\n",
       "      <td>8</td>\n",
       "      <td>350.0</td>\n",
       "      <td>165</td>\n",
       "      <td>3693</td>\n",
       "      <td>11.5</td>\n",
       "      <td>70</td>\n",
       "      <td>1</td>\n",
       "      <td>buick skylark 320</td>\n",
       "    </tr>\n",
       "    <tr>\n",
       "      <th>2</th>\n",
       "      <td>18.0</td>\n",
       "      <td>8</td>\n",
       "      <td>318.0</td>\n",
       "      <td>150</td>\n",
       "      <td>3436</td>\n",
       "      <td>11.0</td>\n",
       "      <td>70</td>\n",
       "      <td>1</td>\n",
       "      <td>plymouth satellite</td>\n",
       "    </tr>\n",
       "    <tr>\n",
       "      <th>3</th>\n",
       "      <td>16.0</td>\n",
       "      <td>8</td>\n",
       "      <td>304.0</td>\n",
       "      <td>150</td>\n",
       "      <td>3433</td>\n",
       "      <td>12.0</td>\n",
       "      <td>70</td>\n",
       "      <td>1</td>\n",
       "      <td>amc rebel sst</td>\n",
       "    </tr>\n",
       "    <tr>\n",
       "      <th>4</th>\n",
       "      <td>17.0</td>\n",
       "      <td>8</td>\n",
       "      <td>302.0</td>\n",
       "      <td>140</td>\n",
       "      <td>3449</td>\n",
       "      <td>10.5</td>\n",
       "      <td>70</td>\n",
       "      <td>1</td>\n",
       "      <td>ford torino</td>\n",
       "    </tr>\n",
       "    <tr>\n",
       "      <th>...</th>\n",
       "      <td>...</td>\n",
       "      <td>...</td>\n",
       "      <td>...</td>\n",
       "      <td>...</td>\n",
       "      <td>...</td>\n",
       "      <td>...</td>\n",
       "      <td>...</td>\n",
       "      <td>...</td>\n",
       "      <td>...</td>\n",
       "    </tr>\n",
       "    <tr>\n",
       "      <th>392</th>\n",
       "      <td>27.0</td>\n",
       "      <td>4</td>\n",
       "      <td>140.0</td>\n",
       "      <td>86</td>\n",
       "      <td>2790</td>\n",
       "      <td>15.6</td>\n",
       "      <td>82</td>\n",
       "      <td>1</td>\n",
       "      <td>ford mustang gl</td>\n",
       "    </tr>\n",
       "    <tr>\n",
       "      <th>393</th>\n",
       "      <td>44.0</td>\n",
       "      <td>4</td>\n",
       "      <td>97.0</td>\n",
       "      <td>52</td>\n",
       "      <td>2130</td>\n",
       "      <td>24.6</td>\n",
       "      <td>82</td>\n",
       "      <td>2</td>\n",
       "      <td>vw pickup</td>\n",
       "    </tr>\n",
       "    <tr>\n",
       "      <th>394</th>\n",
       "      <td>32.0</td>\n",
       "      <td>4</td>\n",
       "      <td>135.0</td>\n",
       "      <td>84</td>\n",
       "      <td>2295</td>\n",
       "      <td>11.6</td>\n",
       "      <td>82</td>\n",
       "      <td>1</td>\n",
       "      <td>dodge rampage</td>\n",
       "    </tr>\n",
       "    <tr>\n",
       "      <th>395</th>\n",
       "      <td>28.0</td>\n",
       "      <td>4</td>\n",
       "      <td>120.0</td>\n",
       "      <td>79</td>\n",
       "      <td>2625</td>\n",
       "      <td>18.6</td>\n",
       "      <td>82</td>\n",
       "      <td>1</td>\n",
       "      <td>ford ranger</td>\n",
       "    </tr>\n",
       "    <tr>\n",
       "      <th>396</th>\n",
       "      <td>31.0</td>\n",
       "      <td>4</td>\n",
       "      <td>119.0</td>\n",
       "      <td>82</td>\n",
       "      <td>2720</td>\n",
       "      <td>19.4</td>\n",
       "      <td>82</td>\n",
       "      <td>1</td>\n",
       "      <td>chevy s-10</td>\n",
       "    </tr>\n",
       "  </tbody>\n",
       "</table>\n",
       "<p>397 rows × 9 columns</p>\n",
       "</div>"
      ],
      "text/plain": [
       "      mpg  cylinders  displacement horsepower  weight  acceleration  year  \\\n",
       "0    18.0          8         307.0        130    3504          12.0    70   \n",
       "1    15.0          8         350.0        165    3693          11.5    70   \n",
       "2    18.0          8         318.0        150    3436          11.0    70   \n",
       "3    16.0          8         304.0        150    3433          12.0    70   \n",
       "4    17.0          8         302.0        140    3449          10.5    70   \n",
       "..    ...        ...           ...        ...     ...           ...   ...   \n",
       "392  27.0          4         140.0         86    2790          15.6    82   \n",
       "393  44.0          4          97.0         52    2130          24.6    82   \n",
       "394  32.0          4         135.0         84    2295          11.6    82   \n",
       "395  28.0          4         120.0         79    2625          18.6    82   \n",
       "396  31.0          4         119.0         82    2720          19.4    82   \n",
       "\n",
       "     origin                       name  \n",
       "0         1  chevrolet chevelle malibu  \n",
       "1         1          buick skylark 320  \n",
       "2         1         plymouth satellite  \n",
       "3         1              amc rebel sst  \n",
       "4         1                ford torino  \n",
       "..      ...                        ...  \n",
       "392       1            ford mustang gl  \n",
       "393       2                  vw pickup  \n",
       "394       1              dodge rampage  \n",
       "395       1                ford ranger  \n",
       "396       1                 chevy s-10  \n",
       "\n",
       "[397 rows x 9 columns]"
      ]
     },
     "execution_count": 30,
     "metadata": {},
     "output_type": "execute_result"
    }
   ],
   "source": [
    "dataset"
   ]
  },
  {
   "cell_type": "code",
   "execution_count": 31,
   "metadata": {},
   "outputs": [
    {
     "name": "stderr",
     "output_type": "stream",
     "text": [
      "C:\\Users\\WILLCA~1\\AppData\\Local\\Temp/ipykernel_18200/3128053285.py:7: DeprecationWarning: np.asscalar(a) is deprecated since NumPy v1.16, use a.item() instead\n",
      "  if np.asscalar(temp[x]) != '?':\n",
      "C:\\Users\\WILLCA~1\\AppData\\Local\\Temp/ipykernel_18200/3128053285.py:8: DeprecationWarning: np.asscalar(a) is deprecated since NumPy v1.16, use a.item() instead\n",
      "  X_train.append([1,float(np.asscalar(temp[x]))] )\n",
      "C:\\Users\\WILLCA~1\\AppData\\Local\\Temp/ipykernel_18200/3128053285.py:9: DeprecationWarning: np.asscalar(a) is deprecated since NumPy v1.16, use a.item() instead\n",
      "  y_train.append([float(np.asscalar(temp_e[x]))])\n"
     ]
    },
    {
     "data": {
      "text/html": [
       "<table class=\"simpletable\">\n",
       "<caption>OLS Regression Results</caption>\n",
       "<tr>\n",
       "  <th>Dep. Variable:</th>            <td>y</td>        <th>  R-squared:         </th> <td>   0.606</td>\n",
       "</tr>\n",
       "<tr>\n",
       "  <th>Model:</th>                   <td>OLS</td>       <th>  Adj. R-squared:    </th> <td>   0.605</td>\n",
       "</tr>\n",
       "<tr>\n",
       "  <th>Method:</th>             <td>Least Squares</td>  <th>  F-statistic:       </th> <td>   599.7</td>\n",
       "</tr>\n",
       "<tr>\n",
       "  <th>Date:</th>             <td>Thu, 18 Nov 2021</td> <th>  Prob (F-statistic):</th> <td>7.03e-81</td>\n",
       "</tr>\n",
       "<tr>\n",
       "  <th>Time:</th>                 <td>10:54:29</td>     <th>  Log-Likelihood:    </th> <td> -1178.7</td>\n",
       "</tr>\n",
       "<tr>\n",
       "  <th>No. Observations:</th>      <td>   392</td>      <th>  AIC:               </th> <td>   2361.</td>\n",
       "</tr>\n",
       "<tr>\n",
       "  <th>Df Residuals:</th>          <td>   390</td>      <th>  BIC:               </th> <td>   2369.</td>\n",
       "</tr>\n",
       "<tr>\n",
       "  <th>Df Model:</th>              <td>     1</td>      <th>                     </th>     <td> </td>   \n",
       "</tr>\n",
       "<tr>\n",
       "  <th>Covariance Type:</th>      <td>nonrobust</td>    <th>                     </th>     <td> </td>   \n",
       "</tr>\n",
       "</table>\n",
       "<table class=\"simpletable\">\n",
       "<tr>\n",
       "    <td></td>       <th>coef</th>     <th>std err</th>      <th>t</th>      <th>P>|t|</th>  <th>[0.025</th>    <th>0.975]</th>  \n",
       "</tr>\n",
       "<tr>\n",
       "  <th>const</th> <td>   39.9359</td> <td>    0.717</td> <td>   55.660</td> <td> 0.000</td> <td>   38.525</td> <td>   41.347</td>\n",
       "</tr>\n",
       "<tr>\n",
       "  <th>x1</th>    <td>   -0.1578</td> <td>    0.006</td> <td>  -24.489</td> <td> 0.000</td> <td>   -0.171</td> <td>   -0.145</td>\n",
       "</tr>\n",
       "</table>\n",
       "<table class=\"simpletable\">\n",
       "<tr>\n",
       "  <th>Omnibus:</th>       <td>16.432</td> <th>  Durbin-Watson:     </th> <td>   0.920</td>\n",
       "</tr>\n",
       "<tr>\n",
       "  <th>Prob(Omnibus):</th> <td> 0.000</td> <th>  Jarque-Bera (JB):  </th> <td>  17.305</td>\n",
       "</tr>\n",
       "<tr>\n",
       "  <th>Skew:</th>          <td> 0.492</td> <th>  Prob(JB):          </th> <td>0.000175</td>\n",
       "</tr>\n",
       "<tr>\n",
       "  <th>Kurtosis:</th>      <td> 3.299</td> <th>  Cond. No.          </th> <td>    322.</td>\n",
       "</tr>\n",
       "</table><br/><br/>Notes:<br/>[1] Standard Errors assume that the covariance matrix of the errors is correctly specified."
      ],
      "text/plain": [
       "<class 'statsmodels.iolib.summary.Summary'>\n",
       "\"\"\"\n",
       "                            OLS Regression Results                            \n",
       "==============================================================================\n",
       "Dep. Variable:                      y   R-squared:                       0.606\n",
       "Model:                            OLS   Adj. R-squared:                  0.605\n",
       "Method:                 Least Squares   F-statistic:                     599.7\n",
       "Date:                Thu, 18 Nov 2021   Prob (F-statistic):           7.03e-81\n",
       "Time:                        10:54:29   Log-Likelihood:                -1178.7\n",
       "No. Observations:                 392   AIC:                             2361.\n",
       "Df Residuals:                     390   BIC:                             2369.\n",
       "Df Model:                           1                                         \n",
       "Covariance Type:            nonrobust                                         \n",
       "==============================================================================\n",
       "                 coef    std err          t      P>|t|      [0.025      0.975]\n",
       "------------------------------------------------------------------------------\n",
       "const         39.9359      0.717     55.660      0.000      38.525      41.347\n",
       "x1            -0.1578      0.006    -24.489      0.000      -0.171      -0.145\n",
       "==============================================================================\n",
       "Omnibus:                       16.432   Durbin-Watson:                   0.920\n",
       "Prob(Omnibus):                  0.000   Jarque-Bera (JB):               17.305\n",
       "Skew:                           0.492   Prob(JB):                     0.000175\n",
       "Kurtosis:                       3.299   Cond. No.                         322.\n",
       "==============================================================================\n",
       "\n",
       "Notes:\n",
       "[1] Standard Errors assume that the covariance matrix of the errors is correctly specified.\n",
       "\"\"\""
      ]
     },
     "execution_count": 31,
     "metadata": {},
     "output_type": "execute_result"
    }
   ],
   "source": [
    "# mpg vs horsepower\n",
    "X_train = []\n",
    "y_train = []\n",
    "temp   = dataset['horsepower'].values.reshape(-1,1);\n",
    "temp_e = dataset['mpg'].values.reshape(-1,1);\n",
    "for x in range(0,len(temp)):\n",
    "    if np.asscalar(temp[x]) != '?':\n",
    "        X_train.append([1,float(np.asscalar(temp[x]))] )\n",
    "        y_train.append([float(np.asscalar(temp_e[x]))])\n",
    "\n",
    "model = sm.OLS(y_train,X_train).fit()\n",
    "model.summary() "
   ]
  },
  {
   "cell_type": "code",
   "execution_count": 32,
   "metadata": {},
   "outputs": [
    {
     "data": {
      "text/plain": [
       "Text(0, 0.5, 'fitted')"
      ]
     },
     "execution_count": 32,
     "metadata": {},
     "output_type": "execute_result"
    },
    {
     "data": {
      "image/png": "[encoded data removed]",
      "text/plain": [
       "<Figure size 432x288 with 1 Axes>"
      ]
     },
     "metadata": {
      "needs_background": "light"
     },
     "output_type": "display_data"
    }
   ],
   "source": [
    "y_pred = model.predict(X_train)\n",
    "\n",
    "plt.plot(y_train,y_pred,'*')\n",
    "plt.plot(y_train,y_train)\n",
    "plt.xlabel('training')\n",
    "plt.ylabel('fitted')"
   ]
  },
  {
   "cell_type": "code",
   "execution_count": 33,
   "metadata": {},
   "outputs": [
    {
     "data": {
      "text/plain": [
       "Text(0, 0.5, 'err')"
      ]
     },
     "execution_count": 33,
     "metadata": {},
     "output_type": "execute_result"
    },
    {
     "data": {
      "image/png": "[encoded data removed]",
      "text/plain": [
       "<Figure size 432x288 with 1 Axes>"
      ]
     },
     "metadata": {
      "needs_background": "light"
     },
     "output_type": "display_data"
    }
   ],
   "source": [
    "# err vs fitted\n",
    "err = []\n",
    "X   = []\n",
    "for x in range(0,len(y_train)):\n",
    "        err.append(y_pred[x]-y_train[x])\n",
    "        X.append(y_pred[x])\n",
    "        \n",
    "plt.plot(X,err,'*')\n",
    "plt.xlabel('fitted')\n",
    "plt.ylabel('err')\n"
   ]
  },
  {
   "cell_type": "code",
   "execution_count": 34,
   "metadata": {},
   "outputs": [
    {
     "name": "stderr",
     "output_type": "stream",
     "text": [
      "C:\\Users\\WILLCA~1\\AppData\\Local\\Temp/ipykernel_18200/2542088288.py:7: DeprecationWarning: np.asscalar(a) is deprecated since NumPy v1.16, use a.item() instead\n",
      "  if np.asscalar(temp[x]) != '?':\n",
      "C:\\Users\\WILLCA~1\\AppData\\Local\\Temp/ipykernel_18200/2542088288.py:8: DeprecationWarning: np.asscalar(a) is deprecated since NumPy v1.16, use a.item() instead\n",
      "  X_train.append([1,float(np.asscalar(temp[x])),float(np.asscalar(temp[x]))*float(np.asscalar(temp[x]))] )\n",
      "C:\\Users\\WILLCA~1\\AppData\\Local\\Temp/ipykernel_18200/2542088288.py:9: DeprecationWarning: np.asscalar(a) is deprecated since NumPy v1.16, use a.item() instead\n",
      "  y_train.append([float(np.asscalar(temp_e[x]))])\n"
     ]
    },
    {
     "data": {
      "text/html": [
       "<table class=\"simpletable\">\n",
       "<caption>OLS Regression Results</caption>\n",
       "<tr>\n",
       "  <th>Dep. Variable:</th>            <td>y</td>        <th>  R-squared:         </th> <td>   0.688</td>\n",
       "</tr>\n",
       "<tr>\n",
       "  <th>Model:</th>                   <td>OLS</td>       <th>  Adj. R-squared:    </th> <td>   0.686</td>\n",
       "</tr>\n",
       "<tr>\n",
       "  <th>Method:</th>             <td>Least Squares</td>  <th>  F-statistic:       </th> <td>   428.0</td>\n",
       "</tr>\n",
       "<tr>\n",
       "  <th>Date:</th>             <td>Thu, 18 Nov 2021</td> <th>  Prob (F-statistic):</th> <td>5.40e-99</td>\n",
       "</tr>\n",
       "<tr>\n",
       "  <th>Time:</th>                 <td>10:54:29</td>     <th>  Log-Likelihood:    </th> <td> -1133.2</td>\n",
       "</tr>\n",
       "<tr>\n",
       "  <th>No. Observations:</th>      <td>   392</td>      <th>  AIC:               </th> <td>   2272.</td>\n",
       "</tr>\n",
       "<tr>\n",
       "  <th>Df Residuals:</th>          <td>   389</td>      <th>  BIC:               </th> <td>   2284.</td>\n",
       "</tr>\n",
       "<tr>\n",
       "  <th>Df Model:</th>              <td>     2</td>      <th>                     </th>     <td> </td>   \n",
       "</tr>\n",
       "<tr>\n",
       "  <th>Covariance Type:</th>      <td>nonrobust</td>    <th>                     </th>     <td> </td>   \n",
       "</tr>\n",
       "</table>\n",
       "<table class=\"simpletable\">\n",
       "<tr>\n",
       "    <td></td>       <th>coef</th>     <th>std err</th>      <th>t</th>      <th>P>|t|</th>  <th>[0.025</th>    <th>0.975]</th>  \n",
       "</tr>\n",
       "<tr>\n",
       "  <th>const</th> <td>   56.9001</td> <td>    1.800</td> <td>   31.604</td> <td> 0.000</td> <td>   53.360</td> <td>   60.440</td>\n",
       "</tr>\n",
       "<tr>\n",
       "  <th>x1</th>    <td>   -0.4662</td> <td>    0.031</td> <td>  -14.978</td> <td> 0.000</td> <td>   -0.527</td> <td>   -0.405</td>\n",
       "</tr>\n",
       "<tr>\n",
       "  <th>x2</th>    <td>    0.0012</td> <td>    0.000</td> <td>   10.080</td> <td> 0.000</td> <td>    0.001</td> <td>    0.001</td>\n",
       "</tr>\n",
       "</table>\n",
       "<table class=\"simpletable\">\n",
       "<tr>\n",
       "  <th>Omnibus:</th>       <td>16.158</td> <th>  Durbin-Watson:     </th> <td>   1.078</td>\n",
       "</tr>\n",
       "<tr>\n",
       "  <th>Prob(Omnibus):</th> <td> 0.000</td> <th>  Jarque-Bera (JB):  </th> <td>  30.662</td>\n",
       "</tr>\n",
       "<tr>\n",
       "  <th>Skew:</th>          <td> 0.218</td> <th>  Prob(JB):          </th> <td>2.20e-07</td>\n",
       "</tr>\n",
       "<tr>\n",
       "  <th>Kurtosis:</th>      <td> 4.299</td> <th>  Cond. No.          </th> <td>1.29e+05</td>\n",
       "</tr>\n",
       "</table><br/><br/>Notes:<br/>[1] Standard Errors assume that the covariance matrix of the errors is correctly specified.<br/>[2] The condition number is large, 1.29e+05. This might indicate that there are<br/>strong multicollinearity or other numerical problems."
      ],
      "text/plain": [
       "<class 'statsmodels.iolib.summary.Summary'>\n",
       "\"\"\"\n",
       "                            OLS Regression Results                            \n",
       "==============================================================================\n",
       "Dep. Variable:                      y   R-squared:                       0.688\n",
       "Model:                            OLS   Adj. R-squared:                  0.686\n",
       "Method:                 Least Squares   F-statistic:                     428.0\n",
       "Date:                Thu, 18 Nov 2021   Prob (F-statistic):           5.40e-99\n",
       "Time:                        10:54:29   Log-Likelihood:                -1133.2\n",
       "No. Observations:                 392   AIC:                             2272.\n",
       "Df Residuals:                     389   BIC:                             2284.\n",
       "Df Model:                           2                                         \n",
       "Covariance Type:            nonrobust                                         \n",
       "==============================================================================\n",
       "                 coef    std err          t      P>|t|      [0.025      0.975]\n",
       "------------------------------------------------------------------------------\n",
       "const         56.9001      1.800     31.604      0.000      53.360      60.440\n",
       "x1            -0.4662      0.031    -14.978      0.000      -0.527      -0.405\n",
       "x2             0.0012      0.000     10.080      0.000       0.001       0.001\n",
       "==============================================================================\n",
       "Omnibus:                       16.158   Durbin-Watson:                   1.078\n",
       "Prob(Omnibus):                  0.000   Jarque-Bera (JB):               30.662\n",
       "Skew:                           0.218   Prob(JB):                     2.20e-07\n",
       "Kurtosis:                       4.299   Cond. No.                     1.29e+05\n",
       "==============================================================================\n",
       "\n",
       "Notes:\n",
       "[1] Standard Errors assume that the covariance matrix of the errors is correctly specified.\n",
       "[2] The condition number is large, 1.29e+05. This might indicate that there are\n",
       "strong multicollinearity or other numerical problems.\n",
       "\"\"\""
      ]
     },
     "execution_count": 34,
     "metadata": {},
     "output_type": "execute_result"
    }
   ],
   "source": [
    "# mpg vs horsepower and horsepower^2\n",
    "X_train = []\n",
    "y_train = []\n",
    "temp   = dataset['horsepower'].values.reshape(-1,1);\n",
    "temp_e = dataset['mpg'].values.reshape(-1,1);\n",
    "for x in range(0,len(temp)):\n",
    "    if np.asscalar(temp[x]) != '?':\n",
    "        X_train.append([1,float(np.asscalar(temp[x])),float(np.asscalar(temp[x]))*float(np.asscalar(temp[x]))] )\n",
    "        y_train.append([float(np.asscalar(temp_e[x]))])\n",
    "\n",
    "model = sm.OLS(y_train,X_train).fit()\n",
    "model.summary() "
   ]
  },
  {
   "cell_type": "code",
   "execution_count": 35,
   "metadata": {},
   "outputs": [
    {
     "data": {
      "text/plain": [
       "Text(0, 0.5, 'fitted')"
      ]
     },
     "execution_count": 35,
     "metadata": {},
     "output_type": "execute_result"
    },
    {
     "data": {
      "image/png": "[encoded data removed]",
      "text/plain": [
       "<Figure size 432x288 with 1 Axes>"
      ]
     },
     "metadata": {
      "needs_background": "light"
     },
     "output_type": "display_data"
    }
   ],
   "source": [
    "y_pred = model.predict(X_train)\n",
    "\n",
    "plt.plot(y_train,y_pred,'*')\n",
    "plt.plot(y_train,y_train)\n",
    "plt.xlabel('training')\n",
    "plt.ylabel('fitted')"
   ]
  },
  {
   "cell_type": "code",
   "execution_count": 36,
   "metadata": {},
   "outputs": [
    {
     "data": {
      "text/plain": [
       "Text(0, 0.5, 'err')"
      ]
     },
     "execution_count": 36,
     "metadata": {},
     "output_type": "execute_result"
    },
    {
     "data": {
      "image/png": "[encoded data removed]",
      "text/plain": [
       "<Figure size 432x288 with 1 Axes>"
      ]
     },
     "metadata": {
      "needs_background": "light"
     },
     "output_type": "display_data"
    }
   ],
   "source": [
    "# err vs fitted\n",
    "err = []\n",
    "X   = []\n",
    "for x in range(0,len(y_train)):\n",
    "        err.append(y_pred[x]-y_train[x])\n",
    "        X.append(y_pred[x])\n",
    "        \n",
    "plt.plot(X,err,'*')\n",
    "plt.xlabel('fitted')\n",
    "plt.ylabel('err')\n"
   ]
  },
  {
   "cell_type": "code",
   "execution_count": 37,
   "metadata": {},
   "outputs": [
    {
     "name": "stderr",
     "output_type": "stream",
     "text": [
      "C:\\Users\\WILLCA~1\\AppData\\Local\\Temp/ipykernel_18200/3195503556.py:7: DeprecationWarning: np.asscalar(a) is deprecated since NumPy v1.16, use a.item() instead\n",
      "  if np.asscalar(temp[x]) != '?':\n",
      "C:\\Users\\WILLCA~1\\AppData\\Local\\Temp/ipykernel_18200/3195503556.py:8: DeprecationWarning: np.asscalar(a) is deprecated since NumPy v1.16, use a.item() instead\n",
      "  X_train.append([1,float(np.asscalar(temp[x])),float(np.asscalar(temp[x]))*float(np.asscalar(temp[x]))] )\n",
      "C:\\Users\\WILLCA~1\\AppData\\Local\\Temp/ipykernel_18200/3195503556.py:9: DeprecationWarning: np.asscalar(a) is deprecated since NumPy v1.16, use a.item() instead\n",
      "  y_train.append([float(np.log(np.asscalar(temp_e[x])))])\n"
     ]
    },
    {
     "data": {
      "text/html": [
       "<table class=\"simpletable\">\n",
       "<caption>OLS Regression Results</caption>\n",
       "<tr>\n",
       "  <th>Dep. Variable:</th>            <td>y</td>        <th>  R-squared:         </th> <td>   0.732</td> \n",
       "</tr>\n",
       "<tr>\n",
       "  <th>Model:</th>                   <td>OLS</td>       <th>  Adj. R-squared:    </th> <td>   0.731</td> \n",
       "</tr>\n",
       "<tr>\n",
       "  <th>Method:</th>             <td>Least Squares</td>  <th>  F-statistic:       </th> <td>   532.2</td> \n",
       "</tr>\n",
       "<tr>\n",
       "  <th>Date:</th>             <td>Thu, 18 Nov 2021</td> <th>  Prob (F-statistic):</th> <td>4.54e-112</td>\n",
       "</tr>\n",
       "<tr>\n",
       "  <th>Time:</th>                 <td>10:54:29</td>     <th>  Log-Likelihood:    </th> <td>  125.48</td> \n",
       "</tr>\n",
       "<tr>\n",
       "  <th>No. Observations:</th>      <td>   392</td>      <th>  AIC:               </th> <td>  -245.0</td> \n",
       "</tr>\n",
       "<tr>\n",
       "  <th>Df Residuals:</th>          <td>   389</td>      <th>  BIC:               </th> <td>  -233.0</td> \n",
       "</tr>\n",
       "<tr>\n",
       "  <th>Df Model:</th>              <td>     2</td>      <th>                     </th>     <td> </td>    \n",
       "</tr>\n",
       "<tr>\n",
       "  <th>Covariance Type:</th>      <td>nonrobust</td>    <th>                     </th>     <td> </td>    \n",
       "</tr>\n",
       "</table>\n",
       "<table class=\"simpletable\">\n",
       "<tr>\n",
       "    <td></td>       <th>coef</th>     <th>std err</th>      <th>t</th>      <th>P>|t|</th>  <th>[0.025</th>    <th>0.975]</th>  \n",
       "</tr>\n",
       "<tr>\n",
       "  <th>const</th> <td>    4.4022</td> <td>    0.073</td> <td>   60.639</td> <td> 0.000</td> <td>    4.260</td> <td>    4.545</td>\n",
       "</tr>\n",
       "<tr>\n",
       "  <th>x1</th>    <td>   -0.0171</td> <td>    0.001</td> <td>  -13.632</td> <td> 0.000</td> <td>   -0.020</td> <td>   -0.015</td>\n",
       "</tr>\n",
       "<tr>\n",
       "  <th>x2</th>    <td> 3.901e-05</td> <td> 4.92e-06</td> <td>    7.925</td> <td> 0.000</td> <td> 2.93e-05</td> <td> 4.87e-05</td>\n",
       "</tr>\n",
       "</table>\n",
       "<table class=\"simpletable\">\n",
       "<tr>\n",
       "  <th>Omnibus:</th>       <td> 9.051</td> <th>  Durbin-Watson:     </th> <td>   1.092</td>\n",
       "</tr>\n",
       "<tr>\n",
       "  <th>Prob(Omnibus):</th> <td> 0.011</td> <th>  Jarque-Bera (JB):  </th> <td>  13.714</td>\n",
       "</tr>\n",
       "<tr>\n",
       "  <th>Skew:</th>          <td>-0.142</td> <th>  Prob(JB):          </th> <td> 0.00105</td>\n",
       "</tr>\n",
       "<tr>\n",
       "  <th>Kurtosis:</th>      <td> 3.871</td> <th>  Cond. No.          </th> <td>1.29e+05</td>\n",
       "</tr>\n",
       "</table><br/><br/>Notes:<br/>[1] Standard Errors assume that the covariance matrix of the errors is correctly specified.<br/>[2] The condition number is large, 1.29e+05. This might indicate that there are<br/>strong multicollinearity or other numerical problems."
      ],
      "text/plain": [
       "<class 'statsmodels.iolib.summary.Summary'>\n",
       "\"\"\"\n",
       "                            OLS Regression Results                            \n",
       "==============================================================================\n",
       "Dep. Variable:                      y   R-squared:                       0.732\n",
       "Model:                            OLS   Adj. R-squared:                  0.731\n",
       "Method:                 Least Squares   F-statistic:                     532.2\n",
       "Date:                Thu, 18 Nov 2021   Prob (F-statistic):          4.54e-112\n",
       "Time:                        10:54:29   Log-Likelihood:                 125.48\n",
       "No. Observations:                 392   AIC:                            -245.0\n",
       "Df Residuals:                     389   BIC:                            -233.0\n",
       "Df Model:                           2                                         \n",
       "Covariance Type:            nonrobust                                         \n",
       "==============================================================================\n",
       "                 coef    std err          t      P>|t|      [0.025      0.975]\n",
       "------------------------------------------------------------------------------\n",
       "const          4.4022      0.073     60.639      0.000       4.260       4.545\n",
       "x1            -0.0171      0.001    -13.632      0.000      -0.020      -0.015\n",
       "x2          3.901e-05   4.92e-06      7.925      0.000    2.93e-05    4.87e-05\n",
       "==============================================================================\n",
       "Omnibus:                        9.051   Durbin-Watson:                   1.092\n",
       "Prob(Omnibus):                  0.011   Jarque-Bera (JB):               13.714\n",
       "Skew:                          -0.142   Prob(JB):                      0.00105\n",
       "Kurtosis:                       3.871   Cond. No.                     1.29e+05\n",
       "==============================================================================\n",
       "\n",
       "Notes:\n",
       "[1] Standard Errors assume that the covariance matrix of the errors is correctly specified.\n",
       "[2] The condition number is large, 1.29e+05. This might indicate that there are\n",
       "strong multicollinearity or other numerical problems.\n",
       "\"\"\""
      ]
     },
     "execution_count": 37,
     "metadata": {},
     "output_type": "execute_result"
    }
   ],
   "source": [
    "# mpg vs horsepower and horsepower^2\n",
    "X_train = []\n",
    "y_train = []\n",
    "temp   = dataset['horsepower'].values.reshape(-1,1);\n",
    "temp_e = dataset['mpg'].values.reshape(-1,1);\n",
    "for x in range(0,len(temp)):\n",
    "    if np.asscalar(temp[x]) != '?':\n",
    "        X_train.append([1,float(np.asscalar(temp[x])),float(np.asscalar(temp[x]))*float(np.asscalar(temp[x]))] )\n",
    "        y_train.append([float(np.log(np.asscalar(temp_e[x])))])\n",
    "\n",
    "model = sm.OLS(y_train,X_train).fit()\n",
    "model.summary() "
   ]
  },
  {
   "cell_type": "code",
   "execution_count": 38,
   "metadata": {},
   "outputs": [
    {
     "data": {
      "text/plain": [
       "Text(0, 0.5, 'fitted')"
      ]
     },
     "execution_count": 38,
     "metadata": {},
     "output_type": "execute_result"
    },
    {
     "data": {
      "image/png": "[encoded data removed]",
      "text/plain": [
       "<Figure size 432x288 with 1 Axes>"
      ]
     },
     "metadata": {
      "needs_background": "light"
     },
     "output_type": "display_data"
    }
   ],
   "source": [
    "y_pred = model.predict(X_train)\n",
    "\n",
    "plt.plot(y_train,y_pred,'*')\n",
    "plt.plot(y_train,y_train)\n",
    "plt.xlabel('training')\n",
    "plt.ylabel('fitted')"
   ]
  },
  {
   "cell_type": "code",
   "execution_count": 39,
   "metadata": {},
   "outputs": [
    {
     "data": {
      "text/plain": [
       "Text(0, 0.5, 'err')"
      ]
     },
     "execution_count": 39,
     "metadata": {},
     "output_type": "execute_result"
    },
    {
     "data": {
      "image/png": "[encoded data removed]",
      "text/plain": [
       "<Figure size 432x288 with 1 Axes>"
      ]
     },
     "metadata": {
      "needs_background": "light"
     },
     "output_type": "display_data"
    }
   ],
   "source": [
    "# err vs fitted\n",
    "err = []\n",
    "X   = []\n",
    "for x in range(0,len(y_train)):\n",
    "        err.append(y_pred[x]-y_train[x])\n",
    "        X.append(y_pred[x])\n",
    "        \n",
    "plt.plot(X,err,'*')\n",
    "plt.xlabel('fitted')\n",
    "plt.ylabel('err')"
   ]
  },
  {
   "cell_type": "code",
   "execution_count": 40,
   "metadata": {},
   "outputs": [
    {
     "data": {
      "text/plain": [
       "0.175689442026605"
      ]
     },
     "execution_count": 40,
     "metadata": {},
     "output_type": "execute_result"
    }
   ],
   "source": [
    "err_std=np.std(err)\n",
    "err_std"
   ]
  },
  {
   "cell_type": "code",
   "execution_count": 41,
   "metadata": {},
   "outputs": [
    {
     "data": {
      "text/plain": [
       "Text(0, 0.5, 'err')"
      ]
     },
     "execution_count": 41,
     "metadata": {},
     "output_type": "execute_result"
    },
    {
     "data": {
      "image/png": "[encoded data removed]",
      "text/plain": [
       "<Figure size 432x288 with 1 Axes>"
      ]
     },
     "metadata": {
      "needs_background": "light"
     },
     "output_type": "display_data"
    }
   ],
   "source": [
    "t   = [] \n",
    "t1  = []\n",
    "for x in range(0,len(y_train)):\n",
    "        t.append(3*err_std)\n",
    "        t1.append(-3*err_std)\n",
    "        \n",
    "        \n",
    "plt.plot(X,err,'*')\n",
    "plt.plot(X,t,'.')\n",
    "plt.plot(X,t1,'.')\n",
    "\n",
    "\n",
    "\n",
    "plt.xlabel('fitted')\n",
    "plt.ylabel('err')"
   ]
  },
  {
   "cell_type": "code",
   "execution_count": 42,
   "metadata": {},
   "outputs": [
    {
     "name": "stderr",
     "output_type": "stream",
     "text": [
      "C:\\Users\\WILLCA~1\\AppData\\Local\\Temp/ipykernel_18200/1697466034.py:7: DeprecationWarning: np.asscalar(a) is deprecated since NumPy v1.16, use a.item() instead\n",
      "  if np.asscalar(temp_e[x]) != '?':\n",
      "C:\\Users\\WILLCA~1\\AppData\\Local\\Temp/ipykernel_18200/1697466034.py:8: DeprecationWarning: np.asscalar(a) is deprecated since NumPy v1.16, use a.item() instead\n",
      "  X_train.append([1,float(np.asscalar(temp[x]))] )\n",
      "C:\\Users\\WILLCA~1\\AppData\\Local\\Temp/ipykernel_18200/1697466034.py:9: DeprecationWarning: np.asscalar(a) is deprecated since NumPy v1.16, use a.item() instead\n",
      "  y_train.append([float(np.asscalar(temp_e[x]))])\n"
     ]
    },
    {
     "data": {
      "text/html": [
       "<table class=\"simpletable\">\n",
       "<caption>OLS Regression Results</caption>\n",
       "<tr>\n",
       "  <th>Dep. Variable:</th>            <td>y</td>        <th>  R-squared:         </th> <td>   0.606</td>\n",
       "</tr>\n",
       "<tr>\n",
       "  <th>Model:</th>                   <td>OLS</td>       <th>  Adj. R-squared:    </th> <td>   0.605</td>\n",
       "</tr>\n",
       "<tr>\n",
       "  <th>Method:</th>             <td>Least Squares</td>  <th>  F-statistic:       </th> <td>   599.7</td>\n",
       "</tr>\n",
       "<tr>\n",
       "  <th>Date:</th>             <td>Thu, 18 Nov 2021</td> <th>  Prob (F-statistic):</th> <td>7.03e-81</td>\n",
       "</tr>\n",
       "<tr>\n",
       "  <th>Time:</th>                 <td>10:54:30</td>     <th>  Log-Likelihood:    </th> <td> -1804.2</td>\n",
       "</tr>\n",
       "<tr>\n",
       "  <th>No. Observations:</th>      <td>   392</td>      <th>  AIC:               </th> <td>   3612.</td>\n",
       "</tr>\n",
       "<tr>\n",
       "  <th>Df Residuals:</th>          <td>   390</td>      <th>  BIC:               </th> <td>   3620.</td>\n",
       "</tr>\n",
       "<tr>\n",
       "  <th>Df Model:</th>              <td>     1</td>      <th>                     </th>     <td> </td>   \n",
       "</tr>\n",
       "<tr>\n",
       "  <th>Covariance Type:</th>      <td>nonrobust</td>    <th>                     </th>     <td> </td>   \n",
       "</tr>\n",
       "</table>\n",
       "<table class=\"simpletable\">\n",
       "<tr>\n",
       "    <td></td>       <th>coef</th>     <th>std err</th>      <th>t</th>      <th>P>|t|</th>  <th>[0.025</th>    <th>0.975]</th>  \n",
       "</tr>\n",
       "<tr>\n",
       "  <th>const</th> <td>  194.4756</td> <td>    3.873</td> <td>   50.211</td> <td> 0.000</td> <td>  186.861</td> <td>  202.091</td>\n",
       "</tr>\n",
       "<tr>\n",
       "  <th>x1</th>    <td>   -3.8389</td> <td>    0.157</td> <td>  -24.489</td> <td> 0.000</td> <td>   -4.147</td> <td>   -3.531</td>\n",
       "</tr>\n",
       "</table>\n",
       "<table class=\"simpletable\">\n",
       "<tr>\n",
       "  <th>Omnibus:</th>       <td>45.875</td> <th>  Durbin-Watson:     </th> <td>   1.064</td>\n",
       "</tr>\n",
       "<tr>\n",
       "  <th>Prob(Omnibus):</th> <td> 0.000</td> <th>  Jarque-Bera (JB):  </th> <td>  70.785</td>\n",
       "</tr>\n",
       "<tr>\n",
       "  <th>Skew:</th>          <td> 0.755</td> <th>  Prob(JB):          </th> <td>4.26e-16</td>\n",
       "</tr>\n",
       "<tr>\n",
       "  <th>Kurtosis:</th>      <td> 4.434</td> <th>  Cond. No.          </th> <td>    78.4</td>\n",
       "</tr>\n",
       "</table><br/><br/>Notes:<br/>[1] Standard Errors assume that the covariance matrix of the errors is correctly specified."
      ],
      "text/plain": [
       "<class 'statsmodels.iolib.summary.Summary'>\n",
       "\"\"\"\n",
       "                            OLS Regression Results                            \n",
       "==============================================================================\n",
       "Dep. Variable:                      y   R-squared:                       0.606\n",
       "Model:                            OLS   Adj. R-squared:                  0.605\n",
       "Method:                 Least Squares   F-statistic:                     599.7\n",
       "Date:                Thu, 18 Nov 2021   Prob (F-statistic):           7.03e-81\n",
       "Time:                        10:54:30   Log-Likelihood:                -1804.2\n",
       "No. Observations:                 392   AIC:                             3612.\n",
       "Df Residuals:                     390   BIC:                             3620.\n",
       "Df Model:                           1                                         \n",
       "Covariance Type:            nonrobust                                         \n",
       "==============================================================================\n",
       "                 coef    std err          t      P>|t|      [0.025      0.975]\n",
       "------------------------------------------------------------------------------\n",
       "const        194.4756      3.873     50.211      0.000     186.861     202.091\n",
       "x1            -3.8389      0.157    -24.489      0.000      -4.147      -3.531\n",
       "==============================================================================\n",
       "Omnibus:                       45.875   Durbin-Watson:                   1.064\n",
       "Prob(Omnibus):                  0.000   Jarque-Bera (JB):               70.785\n",
       "Skew:                           0.755   Prob(JB):                     4.26e-16\n",
       "Kurtosis:                       4.434   Cond. No.                         78.4\n",
       "==============================================================================\n",
       "\n",
       "Notes:\n",
       "[1] Standard Errors assume that the covariance matrix of the errors is correctly specified.\n",
       "\"\"\""
      ]
     },
     "execution_count": 42,
     "metadata": {},
     "output_type": "execute_result"
    }
   ],
   "source": [
    "# mpg vs horsepower and horsepower^2\n",
    "X_train = []\n",
    "y_train = []\n",
    "temp   = dataset['mpg'].values.reshape(-1,1);\n",
    "temp_e = dataset['horsepower'].values.reshape(-1,1);\n",
    "for x in range(0,len(temp)):\n",
    "    if np.asscalar(temp_e[x]) != '?':\n",
    "        X_train.append([1,float(np.asscalar(temp[x]))] )\n",
    "        y_train.append([float(np.asscalar(temp_e[x]))])\n",
    "\n",
    "model = sm.OLS(y_train,X_train).fit()\n",
    "model.summary() "
   ]
  },
  {
   "cell_type": "code",
   "execution_count": null,
   "metadata": {},
   "outputs": [],
   "source": []
  }
 ],
 "metadata": {
  "kernelspec": {
   "display_name": "Python 3",
   "language": "python",
   "name": "python3"
  },
  "language_info": {
   "codemirror_mode": {
    "name": "ipython",
    "version": 3
   },
   "file_extension": ".py",
   "mimetype": "text/x-python",
   "name": "python",
   "nbconvert_exporter": "python",
   "pygments_lexer": "ipython3",
   "version": "3.9.5"
  }
 },
 "nbformat": 4,
 "nbformat_minor": 2
}
